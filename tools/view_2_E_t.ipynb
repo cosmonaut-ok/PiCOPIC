{
 "cells": [
  {
   "cell_type": "code",
   "execution_count": null,
   "metadata": {
    "slideshow": {
     "slide_type": "slide"
    }
   },
   "outputs": [],
   "source": [
    "# define matplotlibplotting backend\n",
    "# %matplotlib -l shows all available backends\n",
    "%matplotlib qt"
   ]
  },
  {
   "cell_type": "code",
   "execution_count": null,
   "metadata": {
    "slideshow": {
     "slide_type": "slide"
    }
   },
   "outputs": [],
   "source": [
    "import os, sys\n",
    "sys.path.append(os.path.join(os.path.dirname(os.path.abspath(os.getcwd())), \"lib/python\"))\n",
    "\n",
    "import numpy as np\n",
    "\n",
    "from picopic.plot_builder import PlotBuilder\n",
    "from picopic.h5_reader import H5Reader\n"
   ]
  },
  {
   "cell_type": "code",
   "execution_count": null,
   "metadata": {
    "slideshow": {
     "slide_type": "slide"
    }
   },
   "outputs": [],
   "source": [
    "##  configuration options\n",
    "data_path = '/home/cosmonaut/dev/pic/picopic'\n",
    "\n",
    "radius=0.02\n",
    "longitude=0.2\n",
    "show_grid=False\n",
    "use_cache=False\n",
    "autoselect = True\n",
    "ylim_r=None\n",
    "ylim_z=None\n",
    "\n",
    "if os.path.isfile(os.path.join(data_path, \"data.h5\")):\n",
    "    reader = H5Reader(path = data_path, use_cache=use_cache, verbose=True)\n",
    "else:\n",
    "    raise EnvironmentError(\"There is no corresponding data/metadata files in the path \" + data_path + \". Can not continue.\")\n",
    "\n",
    "x_axis_label = r'$\\mathit{t (s)}$'\n",
    "y_r_axis_label = r'$\\mathit{E_r (\\frac{V}{m})}$'\n",
    "y_z_axis_label = r'$\\mathit{E_z (\\frac{V}{m})}$'\n",
    "\n",
    "# time_range=[reader.meta.time[0], reader.meta.time[1]]\n",
    "time_range=[0, 1.5e-11]\n",
    "\n",
    "e_r_plot_name = r'$\\mathbf{Electrical\\enspace Field\\enspace Radial\\enspace Component}\\enspace(E_r)$'\n",
    "e_z_plot_name = r'$\\mathbf{Electrical\\enspace Field\\enspace Longitudal\\enspace Component}\\enspace(E_z)$'"
   ]
  },
  {
   "cell_type": "code",
   "execution_count": null,
   "metadata": {},
   "outputs": [],
   "source": [
    "# get data\n",
    "start_frame = None # cfg.get_frame_number_by_timestamp(time_range[0])\n",
    "end_frame = None # 460 # cfg.get_frame_number_by_timestamp(time_range[1])\n",
    "row_number = reader.meta.get_row_by_radius(radius)\n",
    "col_number = reader.meta.get_col_by_longitude(longitude)\n",
    "\n",
    "data_r = []\n",
    "data_z = []\n",
    "\n",
    "for probe in reader.meta.probes:\n",
    "    if (probe.shape == 'dot') and (probe.size[0] == row_number) and (probe.size[1] == col_number):\n",
    "        start_frame = reader.meta.get_frame_number_by_timestamp(time_range[0], probe.schedule)\n",
    "        end_frame = reader.meta.get_frame_number_by_timestamp(time_range[1], probe.schedule)\n",
    "        if probe.component == 'E/r': data_r = reader.dot_range('E/r', row_number, col_number, start_frame, end_frame)\n",
    "        if probe.component == 'E/z': data_z = reader.dot_range('E/z', row_number, col_number, start_frame, end_frame)\n",
    "            \n",
    "if (len(data_r) == 0 or len(data_z) == 0) and autoselect:\n",
    "    for probe in reader.meta.probes:\n",
    "        if (probe.shape == 'rec') and (probe.size[0] <= row_number) and (probe.size[1] <= col_number) and (probe.size[2] >= row_number) and (probe.size[3] >= col_number):\n",
    "            start_frame = reader.meta.get_frame_number_by_timestamp(time_range[0], probe.schedule)\n",
    "            end_frame = reader.meta.get_frame_number_by_timestamp(time_range[1], probe.schedule)\n",
    "            shape = [probe.size[0], probe.size[1], probe.size[2], probe.size[3]]\n",
    "            # for piece in range(start_frame, end_frame):\n",
    "            if probe.component == 'E/r':\n",
    "                data_r = reader.dot_rec_range('E/r', row_number, col_number, shape, start_frame, end_frame)\n",
    "            if probe.component == 'E/z':\n",
    "                data_z = reader.dot_rec_range('E/z', row_number, col_number, shape, start_frame, end_frame)"
   ]
  },
  {
   "cell_type": "code",
   "execution_count": null,
   "metadata": {},
   "outputs": [],
   "source": [
    "data_timeline = np.linspace(time_range[0], time_range[1], len(data_r))\n",
    "\n",
    "# define plot builder\n",
    "plot = PlotBuilder(0, 0, # let the system detects sizes automatically\n",
    "                   fig_color=reader.meta.figure_color, \n",
    "                   fig_width=reader.meta.figure_width,\n",
    "                   fig_height=reader.meta.figure_height, \n",
    "                   fig_dpi=reader.meta.figure_dpi,\n",
    "                   font_family=reader.meta.figure_font_family,\n",
    "                   font_name=reader.meta.figure_font_name,\n",
    "                   font_size=reader.meta.figure_font_size,\n",
    "                   tickbox=True, grid=show_grid, is_invert_y_axe=False,\n",
    "                   aspect='auto', guess_number_ticks=20,\n",
    "                   # number_x_ticks=10, number_y_ticks=10\n",
    "                   x_ticklabel_end=1e-9, y_ticklabel_end=1e-9\n",
    "                  )\n",
    "\n",
    "# add subplots\n",
    "plot_r = plot.add_subplot_cartesian_2d(e_r_plot_name, 121, x_axe_label=x_axis_label, y_axe_label=y_r_axis_label)\n",
    "plot_z = plot.add_subplot_cartesian_2d(e_z_plot_name, 122, x_axe_label=x_axis_label, y_axe_label=y_z_axis_label)\n",
    "\n",
    "# set y-limits\n",
    "if ylim_r is not None:\n",
    "    plot_r.set_ylim(ylim_r)\n",
    "\n",
    "if ylim_z is not None:\n",
    "    plot_z.set_ylim(ylim_z)"
   ]
  },
  {
   "cell_type": "code",
   "execution_count": null,
   "metadata": {},
   "outputs": [],
   "source": [
    "# add data\n",
    "plot_r.plot(data_timeline, data_r)\n",
    "plot_z.plot(data_timeline, data_z)\n",
    "\n",
    "plot.show()"
   ]
  }
 ],
 "metadata": {
  "kernelspec": {
   "display_name": "Python 3",
   "language": "python",
   "name": "python3"
  },
  "language_info": {
   "codemirror_mode": {
    "name": "ipython",
    "version": 3
   },
   "file_extension": ".py",
   "mimetype": "text/x-python",
   "name": "python",
   "nbconvert_exporter": "python",
   "pygments_lexer": "ipython3",
   "version": "3.7.4"
  }
 },
 "nbformat": 4,
 "nbformat_minor": 2
}
