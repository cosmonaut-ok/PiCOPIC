{
 "cells": [
  {
   "cell_type": "code",
   "execution_count": 1,
   "metadata": {
    "autoscroll": false,
    "ein.hycell": false,
    "ein.tags": "worksheet-0",
    "slideshow": {
     "slide_type": "-"
    }
   },
   "outputs": [],
   "source": [
    "# define matplotlibplotting backend\n",
    "# %matplotlib -l shows all available backends\n",
    "%matplotlib qt"
   ]
  },
  {
   "cell_type": "code",
   "execution_count": 2,
   "metadata": {
    "autoscroll": false,
    "ein.hycell": false,
    "ein.tags": "worksheet-0",
    "slideshow": {
     "slide_type": "-"
    }
   },
   "outputs": [],
   "source": [
    "import os\n",
    "import numpy as np\n",
    "\n",
    "from lib.parameters import Parameters\n",
    "from lib.plot_builder import PlotBuilder\n",
    "from lib.h5_reader import H5Reader\n",
    "from lib.plain_reader import PlainReader"
   ]
  },
  {
   "cell_type": "code",
   "execution_count": 3,
   "metadata": {},
   "outputs": [],
   "source": [
    "##  configuration options\n",
    "el_charge = 1.6e-19\n",
    "rho_beam_scale = 1\n",
    "config_file = '/home/cosmonaut/mount/m37s15/parameters.xml'\n",
    "\n",
    "cfg = Parameters(config_file)\n",
    "clim_estimation = 1e6 # cfg.get_clim_estimation()\n",
    "\n",
    "# update shape to get custom shaped images\n",
    "# useful to get just part of frame\n",
    "# or get frames, which has smaller shape than full frame\n",
    "shape=[0, 0, cfg.number_r_grid, cfg.number_z_grid]\n",
    "\n",
    "timestamp=1.48e-9\n",
    "show_grid=True\n",
    "use_cache=False\n",
    "cmap='terrain'\n",
    "specie='electrons'\n",
    "\n",
    "# color limits (WARNING: clim_estimation may works incorrectly)\n",
    "clim_e_r = [2e5, 6e5]\n",
    "clim_e_z = [2e5, 6e5]\n",
    "clim_t = [0, 40]\n",
    "clim_rho = [5e16, 2e17]\n",
    "image_interpolation = 'bilinear'\n",
    "\n",
    "autoselect = True\n",
    "\n",
    "x_axis_label = r'$\\mathit{Z (m)}$'\n",
    "y_axis_label = r'$\\mathit{R (m)}$'\n",
    "cbar_axis_label = r'$\\frac{V}{m}$'\n",
    "cbar_bunch_density_axis_label = r'$m^{-3}$'\n",
    "\n",
    "e_r_plot_name = r'$\\mathbf{Electrical\\enspace Field\\enspace Radial\\enspace Component}\\enspace(E_r)$'\n",
    "e_z_plot_name = r'$\\mathbf{Electrical\\enspace Field\\enspace Longitudal\\enspace Component}\\enspace(E_z)$'\n",
    "t_plot_name = r'$\\mathbf{Ion\\enspace Temperature}$'\n",
    "rho_plot_name = r'$\\mathbf{Ion\\enspace Density}$'"
   ]
  },
  {
   "cell_type": "code",
   "execution_count": 4,
   "metadata": {
    "scrolled": false
   },
   "outputs": [],
   "source": [
    "# define reader (plain reader used)\n",
    "if not cfg.use_hdf5:\n",
    "    reader = PlainReader(path = cfg.data_path,\n",
    "                         data_root=cfg.data_root,\n",
    "                         fullframe_size=[cfg.number_r_grid , cfg.number_z_grid],\n",
    "                         fpds=cfg.frames_per_file, \n",
    "                         use_cache=use_cache,\n",
    "                         verbose=True)\n",
    "else:\n",
    "    reader = H5Reader(str(os.path.join(cfg.data_path, 'data.h5')), use_cache=use_cache)\n",
    "    reader.verbose = True\n",
    "\n",
    "r_scale = (shape[2] - shape[0]) / cfg.number_r_grid\n",
    "z_scale = (shape[3] - shape[1]) / cfg.number_z_grid\n",
    "\n",
    "# define plot builder\n",
    "plot = PlotBuilder(shape[3] - shape[1], shape[2] - shape[0],\n",
    "                   fig_color=cfg.figure_color, \n",
    "                   fig_width=cfg.figure_width,\n",
    "                   fig_height=cfg.figure_height, \n",
    "                   fig_dpi=cfg.figure_dpi,\n",
    "                   font_family=cfg.figure_font_family,\n",
    "                   font_name=cfg.figure_font_name,\n",
    "                   font_size=cfg.figure_font_size,\n",
    "                   \n",
    "                   x_ticklabel_end=cfg.z_size * z_scale, y_ticklabel_end=cfg.r_size * r_scale,\n",
    "                   tickbox=True, grid=show_grid, is_invert_y_axe=False,\n",
    "                   aspect='equal', image_interpolation=image_interpolation, guess_number_ticks=20)"
   ]
  },
  {
   "cell_type": "code",
   "execution_count": 5,
   "metadata": {},
   "outputs": [
    {
     "name": "stdout",
     "output_type": "stream",
     "text": [
      "Loading data set T/electrons/frame_[0, 0, 127, 512]/74...done\n",
      "Loading data set density/electrons/frame_[0, 0, 127, 512]/74...done\n",
      "Loading data set E_r/frame_[0, 0, 127, 1023]/74...done\n",
      "Loading data set E_z/frame_[0, 0, 127, 1023]/74...done\n"
     ]
    }
   ],
   "source": [
    "# get data\n",
    "data_r = data_z = data_beam = []\n",
    "\n",
    "for probe in cfg.probes:\n",
    "    frame = cfg.get_frame_number_by_timestamp(timestamp, probe.schedule)\n",
    "    if (probe.type == 'frame') and (probe.r_start == shape[0]) and (probe.z_start == shape[1]) and(probe.r_end == shape[2]) and(probe.z_end == shape[3]):\n",
    "        if probe.component == 'E_r': data_r = reader.get_frame('E_r', shape, frame)\n",
    "        if probe.component == 'E_z': data_z = reader.get_frame('E_z', shape, frame)\n",
    "        if probe.component == 'T' and probe.specie == specie: data_t = reader.get_frame('T/{}'.format(probe.specie), shape, frame)\n",
    "        if probe.component == 'density' and probe.specie == specie: data_rho = reader.get_frame('density/{}'.format(probe.specie), shape, frame)\n",
    "\n",
    "# try bigger frames, if autoselect enabled\n",
    "if len(data_r) == 0 and autoselect:\n",
    "    for probe in cfg.probes:\n",
    "        probe_shape = [probe.r_start, probe.z_start, probe.r_end, probe.z_end]\n",
    "        frame = cfg.get_frame_number_by_timestamp(timestamp, probe.schedule)\n",
    "        if (probe.type == 'frame') and (probe_shape[0] <= shape[0]) and (probe_shape[1] <= shape[1]) and(probe_shape[2] >= shape[2]) and(probe_shape[3] >= shape[3]):\n",
    "            if probe.component == 'E_r' and len(data_r) == 0: data_r = reader.get_frame('E_r', probe_shape, frame)[shape[0]:shape[2], shape[1]:shape[3]]\n",
    "            if probe.component == 'E_z' and len(data_z) == 0: data_z = reader.get_frame('E_z', probe_shape, frame)[shape[0]:shape[2], shape[1]:shape[3]]\n",
    "            if probe.component == 'T' and probe.specie == specie: data_t = reader.get_frame('T/{}'.format(probe.specie), shape, frame)[shape[0]:shape[2], shape[1]:shape[3]]\n",
    "            if probe.component == 'density' and probe.specie == specie: data_rho = reader.get_frame('density/{}'.format(probe.specie), shape, frame)[shape[0]:shape[2], shape[1]:shape[3]]"
   ]
  },
  {
   "cell_type": "code",
   "execution_count": 6,
   "metadata": {},
   "outputs": [],
   "source": [
    "# add subplots\n",
    "plot.add_subplot_cartesian_2d(e_r_plot_name, 412, x_axe_label=x_axis_label, y_axe_label=y_axis_label)\n",
    "plot.add_subplot_cartesian_2d(e_z_plot_name, 411, x_axe_label=x_axis_label, y_axe_label=y_axis_label)\n",
    "plot.add_subplot_cartesian_2d(t_plot_name, 413, x_axe_label=x_axis_label, y_axe_label=y_axis_label)\n",
    "plot.add_subplot_cartesian_2d(rho_plot_name, 414, x_axe_label=x_axis_label, y_axe_label=y_axis_label)\n",
    "\n",
    "# add timestamp to plot\n",
    "plot.get_figure().suptitle(\"Time: {:.2e} s\".format(timestamp), x=.85, y=.95)\n",
    "\n",
    "# add images\n",
    "data_r_abs = np.abs(data_r)\n",
    "data_z_abs = np.abs(data_z)\n",
    "plot.add_image(e_r_plot_name, data_r_abs, cmap=cmap, clim=clim_e_r)\n",
    "plot.add_image(e_z_plot_name, data_z_abs, cmap=cmap, clim=clim_e_z)\n",
    "plot.add_image(t_plot_name, data_t, cmap=cmap, clim=clim_t)\n",
    "plot.add_image(rho_plot_name, data_rho, cmap='gray_r', clim=clim_rho)\n",
    "\n",
    "# add colorbars\n",
    "plot.add_colorbar(e_r_plot_name, ticks=clim_e_r, title=cbar_axis_label)\n",
    "plot.add_colorbar(e_z_plot_name, ticks=clim_e_z, title=cbar_axis_label)\n",
    "plot.add_colorbar(t_plot_name, ticks=clim_t, title=cbar_axis_label)\n",
    "plot.add_colorbar(rho_plot_name, ticks=clim_rho, title=cbar_axis_label)\n",
    "\n",
    "plot.show()"
   ]
  }
 ],
 "metadata": {
  "kernelspec": {
   "display_name": "Python 3",
   "language": "python",
   "name": "python3"
  },
  "language_info": {
   "codemirror_mode": {
    "name": "ipython",
    "version": 3
   },
   "file_extension": ".py",
   "mimetype": "text/x-python",
   "name": "python",
   "nbconvert_exporter": "python",
   "pygments_lexer": "ipython3",
   "version": "3.7.3"
  },
  "name": "view_3_E_T_map.ipynb"
 },
 "nbformat": 4,
 "nbformat_minor": 2
}
