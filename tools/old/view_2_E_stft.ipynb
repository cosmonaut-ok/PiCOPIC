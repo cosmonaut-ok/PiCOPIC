{
 "cells": [
  {
   "cell_type": "code",
   "execution_count": null,
   "metadata": {
    "autoscroll": false,
    "ein.hycell": false,
    "ein.tags": "worksheet-0",
    "slideshow": {
     "slide_type": "-"
    }
   },
   "outputs": [],
   "source": [
    "# define matplotlibplotting backend\n",
    "# %matplotlib -l shows all available backends\n",
    "%matplotlib qt"
   ]
  },
  {
   "cell_type": "code",
   "execution_count": null,
   "metadata": {
    "autoscroll": false,
    "ein.hycell": false,
    "ein.tags": "worksheet-0",
    "slideshow": {
     "slide_type": "-"
    }
   },
   "outputs": [],
   "source": [
    "import os\n",
    "import numpy as np\n",
    "import matplotlib.pyplot as plt\n",
    "\n",
    "from scipy.signal import stft\n",
    "\n",
    "from mpl_toolkits.axes_grid1 import make_axes_locatable\n",
    "\n",
    "from lib.parameters import Parameters\n",
    "from lib.plot_builder import PlotBuilder\n",
    "from lib.h5_reader import H5Reader\n",
    "from lib.plain_reader import PlainReader"
   ]
  },
  {
   "cell_type": "code",
   "execution_count": null,
   "metadata": {
    "autoscroll": false,
    "ein.hycell": false,
    "ein.tags": "worksheet-0",
    "slideshow": {
     "slide_type": "-"
    }
   },
   "outputs": [],
   "source": [
    "##  configuration options\n",
    "config_file = '../testingdir/parameters.xml'\n",
    "\n",
    "cfg = Parameters(config_file)\n",
    "clim_estimation = cfg.get_clim_estimation()\n",
    "\n",
    "radius=0.01\n",
    "longitude=0.05\n",
    "time_range=[cfg.start_time, cfg.end_time]\n",
    "use_grid=True\n",
    "cmap='terrain'\n",
    "clim_e_r = [0,0]\n",
    "clim_e_z = [0,0]\n",
    "use_cache = False\n",
    "verbose = True\n",
    "autoselect = True\n",
    "\n",
    "cmap = 'terrain'\n",
    "\n",
    "# N dots per segment\n",
    "nperseg=254\n",
    "\n",
    "x_axis_label = r'$\\mathit{Time (by window)}$'\n",
    "y_axis_label = r'$\\mathit{F (Hz)}$'\n",
    "cbar_axis_label = r'$Amplitude (A.U.)$'\n",
    "\n",
    "e_r_plot_name = r'$\\mathbf{E_r\\enspace Short\\enspace Time\\enspace Spectra}$'\n",
    "e_z_plot_name = r'$\\mathbf{E_z\\enspace Short\\enspace Time\\enspace Spectra}$'\n",
    "\n",
    "cbar_axis_label = r'$\\frac{V}{m}$'"
   ]
  },
  {
   "cell_type": "code",
   "execution_count": null,
   "metadata": {
    "autoscroll": false,
    "ein.hycell": false,
    "ein.tags": "worksheet-0",
    "slideshow": {
     "slide_type": "-"
    }
   },
   "outputs": [],
   "source": [
    "# define reader (plain reader used)\n",
    "if not cfg.use_hdf5:\n",
    "    reader = PlainReader(path = cfg.data_path,\n",
    "                         data_root=cfg.data_root,\n",
    "                         fullframe_size=[cfg.number_r_grid , cfg.number_z_grid],\n",
    "                         fpds=cfg.frames_per_file, \n",
    "                         use_cache=use_cache,\n",
    "                         verbose=verbose)\n",
    "else:\n",
    "    reader = H5Reader(str(os.path.join(cfg.data_path, 'data.h5')),\n",
    "                      shape=[cfg.number_r_grid , cfg.number_z_grid],\n",
    "                      use_cache=use_cache)\n",
    "    reader.verbose = True"
   ]
  },
  {
   "cell_type": "code",
   "execution_count": null,
   "metadata": {
    "autoscroll": false,
    "ein.hycell": false,
    "ein.tags": "worksheet-0",
    "scrolled": false,
    "slideshow": {
     "slide_type": "-"
    }
   },
   "outputs": [],
   "source": [
    "# get data\n",
    "start_frame = None\n",
    "end_frame = None\n",
    "row_number = cfg.get_row_by_radius(radius)\n",
    "col_number = cfg.get_col_by_longitude(longitude)\n",
    "\n",
    "data_r = data_z = []\n",
    "\n",
    "data_r_dump_interval = data_z_dump_interval = None\n",
    "\n",
    "for probe in cfg.probes:\n",
    "    if (probe.type == 'dot') and (probe.r_start == row_number) and (probe.z_start == col_number):\n",
    "        start_frame = cfg.get_frame_number_by_timestamp(time_range[0], probe.schedule)\n",
    "        end_frame = cfg.get_frame_number_by_timestamp(time_range[1], probe.schedule)\n",
    "        if probe.component == 'E_r':\n",
    "            data_r = reader.get_frame_range_dot('E_r', row_number, col_number, start_frame, end_frame)\n",
    "            data_r_dump_interval = probe.schedule\n",
    "        if probe.component == 'E_z': \n",
    "            data_z = reader.get_frame_range_dot('E_z', row_number, col_number, start_frame, end_frame)\n",
    "            data_z_dump_interval = probe.schedule\n",
    "        \n",
    "if (len(data_r) == 0 or len(data_z) == 0) and autoselect:\n",
    "    for probe in cfg.probes:\n",
    "        if (probe.type == 'col') and (probe.z_start == col_number):\n",
    "            start_frame = cfg.get_frame_number_by_timestamp(time_range[0], probe.schedule)\n",
    "            end_frame = cfg.get_frame_number_by_timestamp(time_range[1], probe.schedule)\n",
    "            if probe.component == 'E_r': \n",
    "                data_r = reader.get_frame_range_col('E_r', col_number, start_frame, end_frame)[:, row_number]\n",
    "                data_r_dump_interval = probe.schedule\n",
    "            if probe.component == 'E_z': \n",
    "                data_z = reader.get_frame_range_col('E_z', col_number, start_frame, end_frame)[:, row_number]\n",
    "                data_z_dump_interval = probe.schedule\n",
    "            break\n",
    "        elif (probe.type == 'row') and (probe.r_start == row_number):\n",
    "            start_frame = cfg.get_frame_number_by_timestamp(time_range[0], probe.schedule)\n",
    "            end_frame = cfg.get_frame_number_by_timestamp(time_range[1], probe.schedule)\n",
    "            if probe.component == 'E_r': \n",
    "                data_r = reader.get_frame_range_row('E_r', row_number, start_frame, end_frame)[:, col_number]\n",
    "                data_r_dump_interval = probe.schedule\n",
    "            if probe.component == 'E_z': \n",
    "                data_z = reader.get_frame_range_row('E_z', row_number, start_frame, end_frame)[:, col_number]\n",
    "                data_z_dump_interval = probe.schedule\n",
    "            break\n",
    "        elif (probe.type == 'frame') and (probe.r_start <= row_number) and (probe.z_start <= col_number) and (probe.r_end >= row_number) and (probe.z_end >= col_number):\n",
    "            shape = [probe.r_start, probe.z_start, probe.r_end, probe.z_end]\n",
    "            start_frame = cfg.get_frame_number_by_timestamp(time_range[0], probe.schedule)\n",
    "            end_frame = cfg.get_frame_number_by_timestamp(time_range[1], probe.schedule)\n",
    "            if probe.component == 'E_r':\n",
    "                for piece in range(start_frame, end_frame, cfg.frames_per_file):\n",
    "                    data_r[piece - start_frame:piece - start_frame + cfg.frames_per_file - 1] = reader.get_frame_range('E_r', shape, piece, piece + cfg.frames_per_file)[:, row_number, col_number]\n",
    "                data_r_dump_interval = probe.schedule\n",
    "            if probe.component == 'E_z':\n",
    "                for piece in range(start_frame, end_frame, cfg.frames_per_file):\n",
    "                    data_z[piece - start_frame:piece - start_frame + cfg.frames_per_file - 1] = reader.get_frame_range('E_z', shape, piece, piece + cfg.frames_per_file)[:, row_number, col_number]\n",
    "                data_z_dump_interval = probe.schedule"
   ]
  },
  {
   "cell_type": "code",
   "execution_count": null,
   "metadata": {
    "autoscroll": false,
    "ein.hycell": false,
    "ein.tags": "worksheet-0",
    "slideshow": {
     "slide_type": "-"
    }
   },
   "outputs": [],
   "source": [
    "## sampling frequency (chastota dyskretyzacii)\n",
    "fs1 = 1 / (cfg.step_interval * data_r_dump_interval)\n",
    "fs2 = 1 / (cfg.step_interval * data_z_dump_interval)\n",
    "\n",
    "f_r, t_r, Zxx_r = stft(data_r, fs1, nperseg=nperseg)\n",
    "f_z, t_z, Zxx_z = stft(data_z, fs2, nperseg=nperseg)\n",
    "color_map = plt.get_cmap(cmap)"
   ]
  },
  {
   "cell_type": "code",
   "execution_count": null,
   "metadata": {
    "autoscroll": false,
    "ein.hycell": false,
    "ein.tags": "worksheet-0",
    "scrolled": false,
    "slideshow": {
     "slide_type": "-"
    }
   },
   "outputs": [],
   "source": [
    "# define plot builder\n",
    "plot = PlotBuilder(0, 0,\n",
    "                   fig_color=cfg.figure_color,\n",
    "                   fig_width=cfg.figure_width,\n",
    "                   fig_height=cfg.figure_height,\n",
    "                   fig_dpi=cfg.figure_dpi,\n",
    "                   font_family=cfg.figure_font_family,\n",
    "                   font_name=cfg.figure_font_name,\n",
    "                   font_size=cfg.figure_font_size,\n",
    "                   tickbox=True, grid=use_grid, is_invert_y_axe=False,\n",
    "                   aspect='auto', guess_number_ticks=5\n",
    "                   # number_x_ticks=10, number_y_ticks=10,\n",
    "                   # x_ticklabel_end=1e8, y_ticklabel_end=1e9\n",
    "                  )\n",
    "\n",
    "# add subplots\n",
    "plot_r = plot.add_subplot_cartesian_2d(e_r_plot_name, 121, x_axe_label=x_axis_label, y_axe_label=y_axis_label)\n",
    "plot_z = plot.add_subplot_cartesian_2d(e_z_plot_name, 122, x_axe_label=x_axis_label, y_axe_label=y_axis_label)"
   ]
  },
  {
   "cell_type": "code",
   "execution_count": null,
   "metadata": {
    "autoscroll": false,
    "ein.hycell": false,
    "ein.tags": "worksheet-0",
    "slideshow": {
     "slide_type": "-"
    }
   },
   "outputs": [],
   "source": [
    "if clim_e_r == [0, 0]:\n",
    "    im0 = plot_r.pcolormesh(t_r, f_r, np.abs(Zxx_r), cmap=color_map)\n",
    "else:\n",
    "    im0 = plot_r.pcolormesh(t_r, f_r, np.abs(Zxx_r),\n",
    "                                cmap=color_map, vmin=clim_e_r[0],\n",
    "                                vmax=clim_e_r[1])\n",
    "\n",
    "divider = make_axes_locatable(plot_r)\n",
    "cax = divider.append_axes(position='right', size='10%', pad=0.05)\n",
    "plot.get_figure().colorbar(im0, cax=cax, format='%.2e') # , ax = axes)\n",
    "\n",
    "if clim_e_z == [0, 0]:\n",
    "    im1 = plot_z.pcolormesh(t_z, f_z, np.abs(Zxx_z), cmap=color_map)\n",
    "else:\n",
    "    im1 = plot_z.pcolormesh(t_z, f_z, np.abs(Zxx_z),\n",
    "                                cmap=color_map, vmin=clim_e_z[0],\n",
    "                                vmax=clim_e_z[1])\n",
    "\n",
    "divider = make_axes_locatable(plot_z)\n",
    "cax = divider.append_axes(position='right', size='10%', pad=0.05)\n",
    "plot.get_figure().colorbar(im0, cax=cax, format='%.2e')\n",
    "\n",
    "plot.show()"
   ]
  }
 ],
 "metadata": {
  "kernelspec": {
   "display_name": "Python 3",
   "language": "python",
   "name": "python3"
  },
  "language_info": {
   "codemirror_mode": {
    "name": "ipython",
    "version": 3
   },
   "file_extension": ".py",
   "mimetype": "text/x-python",
   "name": "python",
   "nbconvert_exporter": "python",
   "pygments_lexer": "ipython3",
   "version": "3.7.0"
  },
  "name": "view_2_E_stft.ipynb"
 },
 "nbformat": 4,
 "nbformat_minor": 2
}
