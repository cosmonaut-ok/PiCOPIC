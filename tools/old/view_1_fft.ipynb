{
 "cells": [
  {
   "cell_type": "code",
   "execution_count": null,
   "metadata": {
    "autoscroll": false,
    "ein.hycell": false,
    "ein.tags": "worksheet-0",
    "slideshow": {
     "slide_type": "-"
    }
   },
   "outputs": [],
   "source": [
    "# define matplotlibplotting backend\n",
    "# %matplotlib -l shows all available backends\n",
    "%matplotlib qt"
   ]
  },
  {
   "cell_type": "code",
   "execution_count": null,
   "metadata": {
    "autoscroll": false,
    "ein.hycell": false,
    "ein.tags": "worksheet-0",
    "slideshow": {
     "slide_type": "-"
    }
   },
   "outputs": [],
   "source": [
    "import os\n",
    "import numpy as np\n",
    "from numpy import pi\n",
    "from scipy.fftpack import fft\n",
    "\n",
    "from lib.parameters import Parameters\n",
    "from lib.plot_builder import PlotBuilder\n",
    "from lib.h5_reader import H5Reader\n",
    "from lib.plain_reader import PlainReader"
   ]
  },
  {
   "cell_type": "code",
   "execution_count": null,
   "metadata": {},
   "outputs": [],
   "source": [
    "##  configuration options\n",
    "config_file = '../testingdir/parameters.xml'\n",
    "\n",
    "cfg = Parameters(config_file)\n",
    "\n",
    "radius=0.01\n",
    "longitude=0.01\n",
    "time_range=[cfg.start_time, cfg.end_time]\n",
    "use_grid=True\n",
    "ylim=None\n",
    "use_cache=False\n",
    "verbose = True\n",
    "autoselect = True\n",
    "\n",
    "data_sets = ['E_r', 'E_z', 'H_phi']\n",
    "\n",
    "x_axis_label = r'$\\mathit{\\omega}$'\n",
    "y_axis_label = r'$\\mathit{A.U.}$'\n",
    "plot_name = r'$\\mathbf{Multicomponent\\enspace Spectrum}$'"
   ]
  },
  {
   "cell_type": "code",
   "execution_count": null,
   "metadata": {},
   "outputs": [],
   "source": [
    "# define reader (plain reader used)\n",
    "if not cfg.use_hdf5:\n",
    "    reader = PlainReader(path = cfg.data_path,\n",
    "                         data_root=cfg.data_root,\n",
    "                         fullframe_size=[cfg.number_r_grid , cfg.number_z_grid],\n",
    "                         fpds=cfg.frames_per_file, \n",
    "                         use_cache=use_cache,\n",
    "                         verbose=verbose)\n",
    "else:\n",
    "    reader = H5Reader(str(os.path.join(cfg.data_path, 'data.h5')), \n",
    "                      shape=[cfg.number_r_grid , cfg.number_z_grid],\n",
    "                      use_cache=use_cache)\n",
    "    reader.verbose = True"
   ]
  },
  {
   "cell_type": "code",
   "execution_count": null,
   "metadata": {},
   "outputs": [],
   "source": [
    "# get data\n",
    "start_frame = False\n",
    "end_frame = False\n",
    "row_number = cfg.get_row_by_radius(radius)\n",
    "col_number = cfg.get_col_by_longitude(longitude)"
   ]
  },
  {
   "cell_type": "code",
   "execution_count": null,
   "metadata": {},
   "outputs": [],
   "source": [
    "# define plot builder\n",
    "plot = PlotBuilder(0, 0, # let the system detects sizes automatically\n",
    "                   fig_color=cfg.figure_color, \n",
    "                   fig_width=cfg.figure_width,\n",
    "                   fig_height=cfg.figure_height, \n",
    "                   fig_dpi=cfg.figure_dpi,\n",
    "                   font_family=cfg.figure_font_family,\n",
    "                   font_name=cfg.figure_font_name,\n",
    "                   font_size=12,\n",
    "                   tickbox=True, grid=use_grid, is_invert_y_axe=False,\n",
    "                   aspect='auto', guess_number_ticks=20,\n",
    "                   # number_x_ticks=10, number_y_ticks=10\n",
    "                   # x_ticklabel_end=1e-9, y_ticklabel_end=1e-9\n",
    "                  )\n",
    "\n",
    "# add subplots\n",
    "the_plot = plot.add_subplot_cartesian_2d(plot_name, 111, x_axe_label=x_axis_label, y_axe_label=y_axis_label)\n",
    "\n",
    "# set y-limits\n",
    "if ylim is not None:\n",
    "    the_plot.set_ylim(ylim)"
   ]
  },
  {
   "cell_type": "code",
   "execution_count": null,
   "metadata": {
    "scrolled": true
   },
   "outputs": [],
   "source": [
    "data_dump_interval = None\n",
    "\n",
    "for ds in data_sets:\n",
    "    # get data\n",
    "    data = []\n",
    "    for probe in cfg.probes:\n",
    "        if (probe.type == 'dot') and (probe.r_start == row_number) and (probe.z_start == col_number):\n",
    "            if probe.component == ds:\n",
    "                print(start_frame, end_frame)\n",
    "                start_frame = start_frame or cfg.get_frame_number_by_timestamp(time_range[0], probe.schedule)\n",
    "                end_frame = end_frame or cfg.get_frame_number_by_timestamp(time_range[1], probe.schedule)\n",
    "                data = reader.get_frame_range_dot(ds, row_number, col_number, start_frame, end_frame)\n",
    "                data_dump_interval = probe.schedule\n",
    "        \n",
    "\n",
    "    if len(data) == 0 and autoselect:\n",
    "        for probe in cfg.probes:\n",
    "            if (probe.type == 'col') and (probe.z_start == col_number):\n",
    "                if probe.component == ds:\n",
    "                    start_frame = start_frame or cfg.get_frame_number_by_timestamp(time_range[0], probe.schedule)\n",
    "                    end_frame = end_frame or cfg.get_frame_number_by_timestamp(time_range[1], probe.schedule)\n",
    "                    print(start_frame, end_frame)\n",
    "                    data = reader.get_frame_range_col(ds, col_number, start_frame, end_frame)[:, row_number]\n",
    "                    data_dump_interval = probe.schedule\n",
    "                break\n",
    "            elif (probe.type == 'row') and (probe.r_start == row_number):\n",
    "                if probe.component == ds:\n",
    "                    start_frame = start_frame or cfg.get_frame_number_by_timestamp(time_range[0], probe.schedule)\n",
    "                    end_frame = end_frame or cfg.get_frame_number_by_timestamp(time_range[1], probe.schedule)\n",
    "                    data = reader.get_frame_range_row(ds, row_number, start_frame, end_frame)[:, col_number]\n",
    "                    data_dump_interval = probe.schedule\n",
    "                break\n",
    "            elif (probe.type == 'frame') and (probe.r_start <= row_number) and (probe.z_start <= col_number) and (probe.r_end >= row_number) and (probe.z_end >= col_number):\n",
    "                shape = [probe.r_start, probe.z_start, probe.r_end, probe.z_end]\n",
    "                if probe.component == ds:\n",
    "                    start_frame = start_frame or cfg.get_frame_number_by_timestamp(time_range[0], probe.schedule)\n",
    "                    end_frame = end_frame or cfg.get_frame_number_by_timestamp(time_range[1], probe.schedule)\n",
    "                    for piece in range(start_frame, end_frame, cfg.frames_per_file):\n",
    "                        data[piece - start_frame:piece - start_frame + cfg.frames_per_file - 1] = reader.get_frame_range(ds, shape, piece, piece + cfg.frames_per_file)[:, row_number, col_number]\n",
    "                    data_dump_interval = probe.schedule\n",
    "\n",
    "    N = len(data)\n",
    "    sampling_rate = 1 / (cfg.step_interval * data_dump_interval)\n",
    "\n",
    "    # Nyquist Sampling Criteria\n",
    "    T = 1 / sampling_rate # inverse of the sampling rate\n",
    "    x_f = np.linspace(0.0, 1.0/(2.0*T), int(N/2))\n",
    "\n",
    "    # FFT algorithm\n",
    "    yr = fft(data) # \"raw\" FFT with both + and - frequencies\n",
    "    if ds == 'H_phi':\n",
    "        y_f = 2/N * np.abs(yr[0:np.int(N/2)]) * 100 # positive freqs only\n",
    "    else:\n",
    "        y_f = 2/N * np.abs(yr[0:np.int(N/2)]) # positive freqs only\n",
    "\n",
    "    if ds == 'H_phi':\n",
    "        _ds = 'H_\\phi'\n",
    "    else:\n",
    "        _ds = ds\n",
    "    the_plot.plot(x_f, y_f, label=r'${}$'.format(_ds))"
   ]
  },
  {
   "cell_type": "code",
   "execution_count": null,
   "metadata": {},
   "outputs": [],
   "source": [
    "the_plot.legend(loc='upper left')\n",
    "\n",
    "plot.show()"
   ]
  }
 ],
 "metadata": {
  "kernelspec": {
   "display_name": "Python 3",
   "language": "python",
   "name": "python3"
  },
  "language_info": {
   "codemirror_mode": {
    "name": "ipython",
    "version": 3
   },
   "file_extension": ".py",
   "mimetype": "text/x-python",
   "name": "python",
   "nbconvert_exporter": "python",
   "pygments_lexer": "ipython3",
   "version": "3.7.0"
  },
  "name": "view_3_E_RHObeam_r_z.ipynb"
 },
 "nbformat": 4,
 "nbformat_minor": 2
}
