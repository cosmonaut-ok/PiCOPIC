{
 "cells": [
  {
   "cell_type": "code",
   "execution_count": 1,
   "metadata": {
    "autoscroll": false,
    "ein.hycell": false,
    "ein.tags": "worksheet-0",
    "slideshow": {
     "slide_type": "-"
    }
   },
   "outputs": [],
   "source": [
    "# define matplotlibplotting backend\n",
    "# %matplotlib -l shows all available backends\n",
    "%matplotlib qt"
   ]
  },
  {
   "cell_type": "code",
   "execution_count": 2,
   "metadata": {
    "autoscroll": false,
    "ein.hycell": false,
    "ein.tags": "worksheet-0",
    "slideshow": {
     "slide_type": "-"
    }
   },
   "outputs": [],
   "source": [
    "import os\n",
    "import math\n",
    "\n",
    "import numpy as np\n",
    "\n",
    "import numpy.polynomial.polynomial as poly\n",
    "\n",
    "from lib.parameters import Parameters\n",
    "from lib.plot_builder import PlotBuilder\n",
    "from lib.h5_reader import H5Reader\n",
    "from lib.plain_reader import PlainReader"
   ]
  },
  {
   "cell_type": "code",
   "execution_count": 3,
   "metadata": {},
   "outputs": [],
   "source": [
    "##  configuration options\n",
    "config_file = '/home/cosmonaut/mount/m37s19/parameters.xml'\n",
    "\n",
    "cfg = Parameters(config_file)\n",
    "\n",
    "# shape = [96,384,146,768]\n",
    "shape = [64,320,96,732]\n",
    "# shape = [0,320,64,732]\n",
    "# shape = [0, 0, cfg.number_r_grid, cfg.number_z_grid]\n",
    "timestamp=2.24e-9\n",
    "# timestamp=1e-10\n",
    "show_grid=True\n",
    "ylim_r=None\n",
    "ylim_z=None\n",
    "use_cache=False\n",
    "verbose=True\n",
    "specie='electrons'\n",
    "\n",
    "# separate all velocity range to N equal segments \n",
    "# to compare the number of particles in each of them\n",
    "segments = 500\n",
    "\n",
    "use_approx=True # use approximation\n",
    "approx_degree=18 # degree of polynomial approximation\n",
    "\n",
    "use_directed_filter = True\n",
    "\n",
    "# 0 - position r                                                                                                                                                                                            \n",
    "# 1 - position phi                                                                                                                                                                                          \n",
    "# 2 - position z                                                                                                                                                                                            \n",
    "# 3 - velocity r                                                                                                                                                                                            \n",
    "# 4 - velocity phi                                                                                                                                                                                          \n",
    "# 5 - velocity z\n",
    "component = 0\n",
    "\n",
    "autoselect = True\n",
    "\n",
    "x_axis_label = r'$\\mathit{t (s)}$'\n",
    "y_r_axis_label = r'$\\mathit{E_r (\\frac{V}{m})}$'\n",
    "y_z_axis_label = r'$\\mathit{E_z (\\frac{V}{m})}$'\n",
    "\n",
    "e_r_plot_name = r'$\\mathbf{Electrical\\enspace Field\\enspace Radial\\enspace Component}\\enspace(E_r)$'\n",
    "e_z_plot_name = r'$\\mathbf{Electrical\\enspace Field\\enspace Longitudal\\enspace Component}\\enspace(E_z)$'\n",
    "rho_beam_plot_name = r'$\\mathbf{Electron\\enspace Bunch\\enspace Density}\\enspace (\\rho_{bunch})$'"
   ]
  },
  {
   "cell_type": "code",
   "execution_count": 4,
   "metadata": {},
   "outputs": [],
   "source": [
    "# define reader (plain reader used)\n",
    "if not cfg.use_hdf5:\n",
    "    reader = PlainReader(path = cfg.data_path,\n",
    "                         data_root=cfg.data_root,\n",
    "                         fullframe_size=[cfg.number_r_grid , cfg.number_z_grid],\n",
    "                         fpds=cfg.frames_per_file, \n",
    "                         use_cache=use_cache,\n",
    "                         verbose=verbose)\n",
    "else:\n",
    "    reader = H5Reader(str(os.path.join(cfg.data_path, 'data.h5')), use_cache=use_cache)\n",
    "    reader.verbose = True"
   ]
  },
  {
   "cell_type": "code",
   "execution_count": 5,
   "metadata": {
    "scrolled": false
   },
   "outputs": [
    {
     "name": "stdout",
     "output_type": "stream",
     "text": [
      "Loading frame 224 100 2.24e-09\n"
     ]
    }
   ],
   "source": [
    "data_r = data_phi = data_z = []\n",
    "pos_r = pos_z = []\n",
    "\n",
    "for probe in cfg.probes:\n",
    "    if (probe.type == 'mpframe') and (probe.r_start == shape[0]) and (probe.z_start == shape[1]) and (probe.r_end == shape[2]) and (probe.z_end == shape[3]) and probe.component == specie:\n",
    "        frame = cfg.get_frame_number_by_timestamp(timestamp, probe.schedule)\n",
    "        print(\"Loading frame\", frame, probe.schedule, timestamp)\n",
    "        data_r = reader.get_mpframe(specie, shape, 3, frame)\n",
    "        data_phi = reader.get_mpframe(specie, shape, 4, frame)\n",
    "        data_z = reader.get_mpframe(specie, shape, 5, frame)\n",
    "        \n",
    "        pos_r = reader.get_mpframe(specie, shape, 0, frame)\n",
    "        pos_z = reader.get_mpframe(specie, shape, 2, frame)\n",
    "        \n",
    "data = np.sqrt(np.power(data_r, 2) + np.power(data_phi, 2) + np.power(data_z, 2))"
   ]
  },
  {
   "cell_type": "code",
   "execution_count": 6,
   "metadata": {},
   "outputs": [],
   "source": [
    "if use_directed_filter:\n",
    "    # substract directed velocity\n",
    "    r_grid_amount = int((shape[2]-shape[0]) / 2)\n",
    "    z_grid_amount = int((shape[3]-shape[1]) / 2)\n",
    "\n",
    "    subtrahend_r = np.zeros(r_grid_amount * z_grid_amount).reshape(r_grid_amount, z_grid_amount)\n",
    "    subtrahend_phi = np.zeros(r_grid_amount * z_grid_amount).reshape(r_grid_amount, z_grid_amount)\n",
    "    subtrahend_z = np.zeros(r_grid_amount * z_grid_amount).reshape(r_grid_amount, z_grid_amount)\n",
    "    subtrahend = np.zeros(r_grid_amount * z_grid_amount).reshape(r_grid_amount, z_grid_amount)\n",
    "    count = np.ones(r_grid_amount * z_grid_amount).reshape(r_grid_amount, z_grid_amount)\n",
    "    \n",
    "    dr = cfg.r_size / cfg.number_r_grid\n",
    "    dz = cfg.z_size / cfg.number_z_grid\n",
    "    r_shift = shape[0] * dr\n",
    "    z_shift = shape[1] * dz\n",
    "    \n",
    "    for i in range(0, r_grid_amount):\n",
    "        for j in range(0, z_grid_amount):\n",
    "            for n in range(0, len(pos_r)):\n",
    "                if pos_r[n] > r_shift + i * dr and pos_r[n] <= r_shift + (i+1) * dr and pos_z[n] > z_shift + j * dz and pos_z[n] <= z_shift + (j+1) * dz:\n",
    "                    subtrahend_r[i][j] += data_r[n]\n",
    "                    subtrahend_phi[i][j] += data_phi[n]\n",
    "                    subtrahend_z[i][j] += data_z[n]\n",
    "                    count[i][j] += 1\n",
    "    \n",
    "    subtrahend_r /= count\n",
    "    subtrahend_phi /= count\n",
    "    subtrahend_z /= count\n",
    "    \n",
    "    subtrahend = np.sqrt(np.power(subtrahend_r, 2) + np.power(subtrahend_z, 2) + np.power(subtrahend_phi, 2))\n",
    "       \n",
    "    # substract directed velocity\n",
    "    for i in range(0, len(data_r)):\n",
    "        p_r = pos_r[i]\n",
    "        p_z = pos_z[i]\n",
    "        r_cell_number = math.floor((p_r - r_shift) / dr - 1)\n",
    "        z_cell_number = math.floor((p_z - z_shift) / dz - 1)\n",
    "        if r_cell_number > r_grid_amount - 1: r_cell_number = r_grid_amount - 1\n",
    "        if z_cell_number > z_grid_amount - 1: z_cell_number = z_grid_amount - 1\n",
    "        data_r[i] = data_r[i] - subtrahend_r[r_cell_number][z_cell_number]\n",
    "        data_phi[i] = data_phi[i] - subtrahend_phi[r_cell_number][z_cell_number]\n",
    "        data_z[i] = data_z[i] - subtrahend_z[r_cell_number][z_cell_number]\n",
    "        # data[i] = data[i] - subtrahend[r_cell_number][z_cell_number]\n",
    "    data = np.sqrt(np.power(data_r, 2) + np.power(data_phi, 2) + np.power(data_z, 2))"
   ]
  },
  {
   "cell_type": "code",
   "execution_count": 7,
   "metadata": {},
   "outputs": [],
   "source": [
    "velocity_max = np.max(data)\n",
    "velocity_min = np.min(data)\n",
    "\n",
    "stat = np.zeros(segments)\n",
    "\n",
    "slices = np.linspace(velocity_min, velocity_max, segments)\n",
    "\n",
    "for i in data:\n",
    "    for j in range(len(slices)-1):\n",
    "        if i > slices[j] and i <= slices[j+1]:\n",
    "            stat[j] += 1\n",
    "            \n",
    "# stat = stat[stat != 0] # remove zero elements\n",
    "\n",
    "data_min = np.min(stat)\n",
    "data_max = np.max(stat)\n",
    "\n",
    "# normalize to range 0-1\n",
    "# norm = 1 / data_max\n",
    "# stat = stat * norm"
   ]
  },
  {
   "cell_type": "code",
   "execution_count": 8,
   "metadata": {
    "scrolled": false
   },
   "outputs": [],
   "source": [
    "data_array = np.linspace(data_min, data_max, len(stat))\n",
    "\n",
    "# define plot builder\n",
    "plot = PlotBuilder(0, 0, # let the system detects sizes automatically\n",
    "                   fig_color=cfg.figure_color, \n",
    "                   fig_width=cfg.figure_width,\n",
    "                   fig_height=cfg.figure_height, \n",
    "                   fig_dpi=cfg.figure_dpi,\n",
    "                   font_family=cfg.figure_font_family,\n",
    "                   font_name=cfg.figure_font_name,\n",
    "                   font_size=cfg.figure_font_size,\n",
    "                   tickbox=True, grid=show_grid, is_invert_y_axe=False,\n",
    "                   aspect='auto', guess_number_ticks=20,\n",
    "                   # number_x_ticks=10, number_y_ticks=10\n",
    "                   x_ticklabel_end=1e-9, y_ticklabel_end=1e-9\n",
    "                  )\n",
    "\n",
    "# add subplots\n",
    "plot_r = plot.add_subplot_cartesian_2d(e_r_plot_name, 111, x_axe_label=x_axis_label, y_axe_label=y_r_axis_label)\n",
    "\n",
    "# set y-limits\n",
    "if ylim_r is not None:\n",
    "    plot_r.set_ylim(ylim_r)\n",
    "\n",
    "if ylim_z is not None:\n",
    "    plot_z.set_ylim(ylim_z)"
   ]
  },
  {
   "cell_type": "code",
   "execution_count": 9,
   "metadata": {},
   "outputs": [
    {
     "name": "stderr",
     "output_type": "stream",
     "text": [
      "/home/cosmonaut/anaconda3/lib/python3.7/site-packages/ipykernel_launcher.py:5: RankWarning: The fit may be poorly conditioned\n",
      "  \"\"\"\n"
     ]
    }
   ],
   "source": [
    "# add data\n",
    "if use_approx:\n",
    "    x_new = np.linspace(velocity_min, velocity_max, len(stat))\n",
    "\n",
    "    coefs = poly.polyfit(slices, stat, approx_degree)\n",
    "    ffit = poly.polyval(x_new, coefs)\n",
    "    plot_r.plot(x_new, ffit)\n",
    "    plot_r.plot(slices, stat, linestyle = 'None', marker='.')\n",
    "else:\n",
    "    plot_r.plot(slices, stat)\n",
    "\n",
    "plot.show()"
   ]
  },
  {
   "cell_type": "code",
   "execution_count": null,
   "metadata": {},
   "outputs": [],
   "source": []
  }
 ],
 "metadata": {
  "kernelspec": {
   "display_name": "Python 3",
   "language": "python",
   "name": "python3"
  },
  "language_info": {
   "codemirror_mode": {
    "name": "ipython",
    "version": 3
   },
   "file_extension": ".py",
   "mimetype": "text/x-python",
   "name": "python",
   "nbconvert_exporter": "python",
   "pygments_lexer": "ipython3",
   "version": "3.7.3"
  },
  "name": "view_3_E_RHObeam_r_z.ipynb"
 },
 "nbformat": 4,
 "nbformat_minor": 2
}
