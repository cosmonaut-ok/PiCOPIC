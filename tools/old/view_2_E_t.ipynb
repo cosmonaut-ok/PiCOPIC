{
 "cells": [
  {
   "cell_type": "code",
   "execution_count": null,
   "metadata": {
    "autoscroll": false,
    "ein.hycell": false,
    "ein.tags": "worksheet-0",
    "slideshow": {
     "slide_type": "-"
    }
   },
   "outputs": [],
   "source": [
    "# define matplotlibplotting backend\n",
    "# %matplotlib -l shows all available backends\n",
    "%matplotlib qt"
   ]
  },
  {
   "cell_type": "code",
   "execution_count": null,
   "metadata": {
    "autoscroll": false,
    "ein.hycell": false,
    "ein.tags": "worksheet-0",
    "slideshow": {
     "slide_type": "-"
    }
   },
   "outputs": [],
   "source": [
    "import os\n",
    "import numpy as np\n",
    "\n",
    "from lib.parameters import Parameters\n",
    "from lib.plot_builder import PlotBuilder\n",
    "from lib.h5_reader import H5Reader\n",
    "from lib.plain_reader import PlainReader"
   ]
  },
  {
   "cell_type": "code",
   "execution_count": null,
   "metadata": {},
   "outputs": [],
   "source": [
    "##  configuration options\n",
    "config_file = '../parameters.xml'\n",
    "\n",
    "cfg = Parameters(config_file)\n",
    "\n",
    "radius=0.02\n",
    "longitude=0.2\n",
    "time_range=[cfg.start_time, cfg.end_time]\n",
    "show_grid=True\n",
    "ylim_r=None\n",
    "ylim_z=None\n",
    "use_cache=False\n",
    "verbose=True\n",
    "\n",
    "autoselect = True\n",
    "\n",
    "x_axis_label = r'$\\mathit{t (s)}$'\n",
    "y_r_axis_label = r'$\\mathit{E_r (\\frac{V}{m})}$'\n",
    "y_z_axis_label = r'$\\mathit{E_z (\\frac{V}{m})}$'\n",
    "\n",
    "e_r_plot_name = r'$\\mathbf{Electrical\\enspace Field\\enspace Radial\\enspace Component}\\enspace(E_r)$'\n",
    "e_z_plot_name = r'$\\mathbf{Electrical\\enspace Field\\enspace Longitudal\\enspace Component}\\enspace(E_z)$'\n",
    "rho_beam_plot_name = r'$\\mathbf{Electron\\enspace Bunch\\enspace Density}\\enspace (\\rho_{bunch})$'"
   ]
  },
  {
   "cell_type": "code",
   "execution_count": null,
   "metadata": {},
   "outputs": [],
   "source": [
    "# define reader (plain reader used)\n",
    "if not cfg.use_hdf5:\n",
    "    reader = PlainReader(path = cfg.data_path,\n",
    "                         data_root=cfg.data_root,\n",
    "                         fullframe_size=[cfg.number_r_grid , cfg.number_z_grid],\n",
    "                         fpds=cfg.frames_per_file, \n",
    "                         use_cache=use_cache,\n",
    "                         verbose=verbose)\n",
    "else:\n",
    "    reader = H5Reader(str(os.path.join(cfg.data_path, 'data.h5')), use_cache=use_cache)\n",
    "    reader.verbose = True"
   ]
  },
  {
   "cell_type": "code",
   "execution_count": null,
   "metadata": {
    "scrolled": false
   },
   "outputs": [],
   "source": [
    "# get data\n",
    "start_frame = None # cfg.get_frame_number_by_timestamp(time_range[0])\n",
    "end_frame = None # 460 # cfg.get_frame_number_by_timestamp(time_range[1])\n",
    "row_number = cfg.get_row_by_radius(radius)\n",
    "col_number = cfg.get_col_by_longitude(longitude)\n",
    "\n",
    "data_r = []\n",
    "data_z = []\n",
    "\n",
    "for probe in cfg.probes:\n",
    "    if (probe.type == 'dot') and (probe.r_start == row_number) and (probe.z_start == col_number):\n",
    "        start_frame = cfg.get_frame_number_by_timestamp(time_range[0], probe.schedule)\n",
    "        end_frame = cfg.get_frame_number_by_timestamp(time_range[1], probe.schedule)\n",
    "        if probe.component == 'E_r': data_r = reader.get_frame_range_dot('E_r', row_number, col_number, start_frame, end_frame)\n",
    "        if probe.component == 'E_z': data_z = reader.get_frame_range_dot('E_z', row_number, col_number, start_frame, end_frame)\n",
    "        \n",
    "if (len(data_r) == 0 or len(data_z) == 0) and autoselect:\n",
    "    for probe in cfg.probes:\n",
    "        if (probe.type == 'col') and (probe.z_start == col_number):\n",
    "            start_frame = cfg.get_frame_number_by_timestamp(time_range[0], probe.schedule)\n",
    "            end_frame = cfg.get_frame_number_by_timestamp(time_range[1], probe.schedule)\n",
    "            if probe.component == 'E_r': data_r = reader.get_frame_range_col('E_r', col_number, start_frame, end_frame)[:, row_number]\n",
    "            if probe.component == 'E_z': data_z = reader.get_frame_range_col('E_z', col_number, start_frame, end_frame)[:, row_number]\n",
    "            break\n",
    "        elif (probe.type == 'row') and (probe.r_start == row_number):\n",
    "            start_frame = cfg.get_frame_number_by_timestamp(time_range[0], probe.schedule)\n",
    "            end_frame = cfg.get_frame_number_by_timestamp(time_range[1], probe.schedule)\n",
    "            if probe.component == 'E_r': data_r = reader.get_frame_range_row('E_r', row_number, start_frame, end_frame)[:, col_number]\n",
    "            if probe.component == 'E_z': data_z = reader.get_frame_range_row('E_z', row_number, start_frame, end_frame)[:, col_number]\n",
    "            break\n",
    "        elif (probe.type == 'frame') and (probe.r_start <= row_number) and (probe.z_start <= col_number) and (probe.r_end >= row_number) and (probe.z_end >= col_number):\n",
    "            start_frame = cfg.get_frame_number_by_timestamp(time_range[0], probe.schedule)\n",
    "            end_frame = cfg.get_frame_number_by_timestamp(time_range[1], probe.schedule)\n",
    "            shape = [probe.r_start, probe.z_start, probe.r_end, probe.z_end]\n",
    "            for piece in range(start_frame, end_frame, cfg.frames_per_file):\n",
    "                if probe.component == 'E_r':\n",
    "                    data_r[piece - start_frame:piece - start_frame + cfg.frames_per_file - 1] = reader.get_frame_range('E_r', shape, piece, cfg.frames_per_file + piece)[:, row_number, col_number]\n",
    "                if probe.component == 'E_z':\n",
    "                    data_z[piece - start_frame:piece - start_frame + cfg.frames_per_file - 1] = reader.get_frame_range('E_z', shape, piece, piece + cfg.frames_per_file)[:, row_number, col_number]"
   ]
  },
  {
   "cell_type": "code",
   "execution_count": null,
   "metadata": {
    "scrolled": false
   },
   "outputs": [],
   "source": [
    "data_timeline = np.linspace(time_range[0], time_range[1], len(data_r))\n",
    "\n",
    "# define plot builder\n",
    "plot = PlotBuilder(0, 0, # let the system detects sizes automatically\n",
    "                   fig_color=cfg.figure_color, \n",
    "                   fig_width=cfg.figure_width,\n",
    "                   fig_height=cfg.figure_height, \n",
    "                   fig_dpi=cfg.figure_dpi,\n",
    "                   font_family=cfg.figure_font_family,\n",
    "                   font_name=cfg.figure_font_name,\n",
    "                   font_size=cfg.figure_font_size,\n",
    "                   tickbox=True, grid=show_grid, is_invert_y_axe=False,\n",
    "                   aspect='auto', guess_number_ticks=20,\n",
    "                   # number_x_ticks=10, number_y_ticks=10\n",
    "                   x_ticklabel_end=1e-9, y_ticklabel_end=1e-9\n",
    "                  )\n",
    "\n",
    "# add subplots\n",
    "plot_r = plot.add_subplot_cartesian_2d(e_r_plot_name, 121, x_axe_label=x_axis_label, y_axe_label=y_r_axis_label)\n",
    "plot_z = plot.add_subplot_cartesian_2d(e_z_plot_name, 122, x_axe_label=x_axis_label, y_axe_label=y_z_axis_label)\n",
    "\n",
    "# set y-limits\n",
    "if ylim_r is not None:\n",
    "    plot_r.set_ylim(ylim_r)\n",
    "\n",
    "if ylim_z is not None:\n",
    "    plot_z.set_ylim(ylim_z)"
   ]
  },
  {
   "cell_type": "code",
   "execution_count": null,
   "metadata": {},
   "outputs": [],
   "source": [
    "# add data\n",
    "plot_r.plot(data_timeline, data_r)\n",
    "plot_z.plot(data_timeline, data_z)\n",
    "\n",
    "plot.show()"
   ]
  }
 ],
 "metadata": {
  "kernelspec": {
   "display_name": "Python 3",
   "language": "python",
   "name": "python3"
  },
  "language_info": {
   "codemirror_mode": {
    "name": "ipython",
    "version": 3
   },
   "file_extension": ".py",
   "mimetype": "text/x-python",
   "name": "python",
   "nbconvert_exporter": "python",
   "pygments_lexer": "ipython3",
   "version": "3.7.3"
  },
  "name": "view_3_E_RHObeam_r_z.ipynb"
 },
 "nbformat": 4,
 "nbformat_minor": 2
}
