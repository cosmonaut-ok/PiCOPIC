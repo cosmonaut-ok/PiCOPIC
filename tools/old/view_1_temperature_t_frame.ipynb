{
 "cells": [
  {
   "cell_type": "code",
   "execution_count": null,
   "metadata": {},
   "outputs": [],
   "source": [
    "# define matplotlibplotting backend\n",
    "# %matplotlib -l shows all available backends\n",
    "%matplotlib qt"
   ]
  },
  {
   "cell_type": "code",
   "execution_count": null,
   "metadata": {},
   "outputs": [],
   "source": [
    "import numpy as np\n",
    "import math\n",
    "\n",
    "from lib.parameters import Parameters\n",
    "from lib.plot_builder import PlotBuilder\n",
    "from lib.h5_reader import H5Reader\n",
    "from lib.plain_reader import PlainReader"
   ]
  },
  {
   "cell_type": "code",
   "execution_count": null,
   "metadata": {},
   "outputs": [],
   "source": [
    "config_file = '../testingdir/parameters.xml'\n",
    "\n",
    "cfg = Parameters(config_file)\n",
    "\n",
    "# update shape to get custom shaped images\n",
    "# useful to get just part of frame\n",
    "# or get frames, which has smaller shape than full frame\n",
    "shape=[0, 0, cfg.number_r_grid, cfg.number_z_grid]\n",
    "\n",
    "use_grid=True\n",
    "ylim=None\n",
    "use_cache=False\n",
    "verbose=True\n",
    "\n",
    "specie='Electrons'\n",
    "time_range=[cfg.start_time, cfg.end_time]\n",
    "\n",
    "autoselect = True\n",
    "show_grid=False\n",
    "\n",
    "x_axis_label = r'$\\mathit{t (s)}$'\n",
    "y_axis_label = r'$\\mathit{T (eV)}$'\n",
    "\n",
    "plot_name = r'$\\mathbf{Temperature-time \\enspace Dependency}\\enspace(T)$'"
   ]
  },
  {
   "cell_type": "code",
   "execution_count": null,
   "metadata": {},
   "outputs": [],
   "source": [
    "# define reader (plain reader used)\n",
    "if not cfg.use_hdf5:\n",
    "    reader = PlainReader(path = cfg.data_path,\n",
    "                         data_root=cfg.data_root,\n",
    "                         fullframe_size=[cfg.number_r_grid , cfg.number_z_grid],\n",
    "                         fpds=cfg.frames_per_file, \n",
    "                         use_cache=use_cache,\n",
    "                         verbose=True)\n",
    "else:\n",
    "    reader = H5Reader(str(os.path.join(cfg.data_path, 'data.h5')), use_cache=use_cache)\n",
    "    reader.verbose = True\n"
   ]
  },
  {
   "cell_type": "code",
   "execution_count": null,
   "metadata": {},
   "outputs": [],
   "source": [
    "# get data\n",
    "data = []\n",
    "data_collector = []\n",
    "\n",
    "for probe in cfg.probes:\n",
    "    start_frame = cfg.get_frame_number_by_timestamp(time_range[0], probe.schedule)\n",
    "    end_frame = cfg.get_frame_number_by_timestamp(time_range[1], probe.schedule)\n",
    "    if (probe.type == 'frame') and (probe.specie == specie) and (probe.r_start == shape[0]) and (probe.z_start == shape[1]) and(probe.r_end == shape[2]) and(probe.z_end == shape[3]) and (probe.component == 'T'):\n",
    "        data_collector = reader.get_frame_range('T/{}'.format(probe.specie), shape, start_frame, end_frame)\n",
    "        for i in range(0, len(data_collector)):\n",
    "            a = data_collector[i].flatten()\n",
    "            index = np.argwhere(np.isnan(a))\n",
    "            b = np.delete(a, index)\n",
    "            data.append(np.sum(b) / len(b))\n",
    "            \n",
    "\n",
    "# try bigger frames, if autoselect enabled\n",
    "if len(data) == 0 and autoselect:\n",
    "    for probe in cfg.probes:\n",
    "        probe_shape = [probe.r_start, probe.z_start, probe.r_end, probe.z_end]\n",
    "        start_frame = cfg.get_frame_number_by_timestamp(time_range[0], probe.schedule)\n",
    "        end_frame = cfg.get_frame_number_by_timestamp(time_range[1], probe.schedule)\n",
    "        if (probe.type == 'frame') and (probe.specie == specie) and (probe_shape[0] <= shape[0]) and (probe_shape[1] <= shape[1]) and(probe_shape[2] >= shape[2]) and(probe_shape[3] >= shape[3]) and (probe.component == 'T'):\n",
    "            for piece in range(start_frame, end_frame, cfg.frames_per_file):\n",
    "                data_collector[piece - start_frame:piece - start_frame + cfg.frames_per_file - 1] = reader.get_frame_range('T/{}'.format(probe.specie), probe_shape, piece, piece + cfg.frames_per_file)[:, shape[0]:shape[2], shape[1]:shape[3]]\n",
    "\n",
    "            for i in range(0, len(data_collector)):\n",
    "                a = data_collector[i].flatten()\n",
    "                index = np.argwhere(np.isnan(a))\n",
    "                b = np.delete(a, index)\n",
    "                data.append(np.sum(b) / len(b))\n",
    "data = np.nan_to_num(data)"
   ]
  },
  {
   "cell_type": "code",
   "execution_count": null,
   "metadata": {},
   "outputs": [],
   "source": [
    "data_timeline = np.linspace(time_range[0], time_range[1], len(data))\n",
    "\n",
    "# define plot builder\n",
    "plot = PlotBuilder(0, 0, # let the system detects sizes automatically\n",
    "                   fig_color=cfg.figure_color, \n",
    "                   fig_width=cfg.figure_width,\n",
    "                   fig_height=cfg.figure_height, \n",
    "                   fig_dpi=cfg.figure_dpi,\n",
    "                   font_family=cfg.figure_font_family,\n",
    "                   font_name=cfg.figure_font_name,\n",
    "                   font_size=cfg.figure_font_size,\n",
    "                   tickbox=True, grid=use_grid, is_invert_y_axe=False,\n",
    "                   aspect='auto', guess_number_ticks=20,\n",
    "                   x_ticklabel_start=time_range[0],\n",
    "                   x_ticklabel_end=time_range[1]\n",
    "                  )\n",
    "\n",
    "# add subplots\n",
    "plot_t = plot.add_subplot_cartesian_2d(plot_name, 111, x_axe_label=x_axis_label, y_axe_label=y_axis_label)\n",
    "\n",
    "# set y-limits\n",
    "if ylim is not None:\n",
    "    plot_t.set_ylim(ylim)"
   ]
  },
  {
   "cell_type": "code",
   "execution_count": null,
   "metadata": {},
   "outputs": [],
   "source": [
    "plot_t.plot(data_timeline, data)\n",
    "\n",
    "plot.show()"
   ]
  }
 ],
 "metadata": {
  "kernelspec": {
   "display_name": "Python 3",
   "language": "python",
   "name": "python3"
  },
  "language_info": {
   "codemirror_mode": {
    "name": "ipython",
    "version": 3
   },
   "file_extension": ".py",
   "mimetype": "text/x-python",
   "name": "python",
   "nbconvert_exporter": "python",
   "pygments_lexer": "ipython3",
   "version": "3.7.0"
  }
 },
 "nbformat": 4,
 "nbformat_minor": 2
}
