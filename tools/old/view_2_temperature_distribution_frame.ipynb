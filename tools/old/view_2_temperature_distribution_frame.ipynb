{
 "cells": [
  {
   "cell_type": "code",
   "execution_count": null,
   "metadata": {},
   "outputs": [],
   "source": [
    "# define matplotlibplotting backend\n",
    "# %matplotlib -l shows all available backends\n",
    "%matplotlib qt"
   ]
  },
  {
   "cell_type": "code",
   "execution_count": null,
   "metadata": {},
   "outputs": [],
   "source": [
    "import numpy as np\n",
    "import math\n",
    "\n",
    "from lib.parameters import Parameters\n",
    "from lib.plot_builder import PlotBuilder\n",
    "from lib.h5_reader import H5Reader\n",
    "from lib.plain_reader import PlainReader"
   ]
  },
  {
   "cell_type": "code",
   "execution_count": null,
   "metadata": {},
   "outputs": [],
   "source": [
    "config_file = '/home/cosmonaut/models/model37X/c1/parameters.xml'\n",
    "config_file2 = '/home/cosmonaut/models/model37X/w1/parameters.xml'\n",
    "\n",
    "cfg = Parameters(config_file)\n",
    "cfg2 = Parameters(config_file2)\n",
    "\n",
    "# update shape to get custom shaped images\n",
    "# useful to get just part of frame\n",
    "# or get frames, which has smaller shape than full frame\n",
    "shape=[0, 0, cfg.number_r_grid, cfg.number_z_grid]\n",
    "\n",
    "use_grid=True\n",
    "ylim=None\n",
    "use_cache=False\n",
    "verbose=True\n",
    "\n",
    "beans = 20000\n",
    "\n",
    "specie='electrons'\n",
    "timestamp=1e-10\n",
    "\n",
    "autoselect = True\n",
    "show_grid=False\n",
    "\n",
    "x_axis_label = r'$\\mathit{t (s)}$'\n",
    "y_axis_label = r'$\\mathit{T (eV)}$'\n",
    "\n",
    "plot_name = r'$\\mathbf{Temperature-time \\enspace Dependency}\\enspace(T)$'"
   ]
  },
  {
   "cell_type": "code",
   "execution_count": null,
   "metadata": {},
   "outputs": [],
   "source": [
    "# define reader (plain reader used)\n",
    "if not cfg.use_hdf5:\n",
    "    reader = PlainReader(path = cfg.data_path,\n",
    "                         data_root=cfg.data_root,\n",
    "                         fullframe_size=[cfg.number_r_grid , cfg.number_z_grid],\n",
    "                         fpds=cfg.frames_per_file, \n",
    "                         use_cache=use_cache,\n",
    "                         verbose=True)\n",
    "    reader2 = PlainReader(path = cfg2.data_path,\n",
    "                         data_root=cfg2.data_root,\n",
    "                         fullframe_size=[cfg2.number_r_grid , cfg2.number_z_grid],\n",
    "                         fpds=cfg2.frames_per_file, \n",
    "                         use_cache=use_cache,\n",
    "                         verbose=True)\n",
    "else:\n",
    "    reader = H5Reader(str(os.path.join(cfg.data_path, 'data.h5')), use_cache=use_cache)\n",
    "    reader.verbose = True\n"
   ]
  },
  {
   "cell_type": "code",
   "execution_count": null,
   "metadata": {},
   "outputs": [],
   "source": [
    "# get data\n",
    "data = []\n",
    "data2 = []\n",
    "\n",
    "for probe in cfg.probes:\n",
    "    frame = cfg.get_frame_number_by_timestamp(timestamp, probe.schedule)\n",
    "    if (probe.type == 'frame') and (probe.specie == specie) and (probe.r_start == shape[0]) and (probe.z_start == shape[1]) and(probe.r_end == shape[2]) and(probe.z_end == shape[3]):\n",
    "        if probe.component == 'T': \n",
    "            data = reader.get_frame('T/{}'.format(probe.specie), shape, frame)\n",
    "            data2 = reader2.get_frame('T/{}'.format(probe.specie), shape, frame)\n",
    "\n",
    "# try bigger frames, if autoselect enabled\n",
    "if (len(data) == 0 or len(data2) == 0) and autoselect:\n",
    "    for probe in cfg.probes:\n",
    "        probe_shape = [probe.r_start, probe.z_start, probe.r_end, probe.z_end]\n",
    "        frame = cfg.get_frame_number_by_timestamp(timestamp, probe.schedule)\n",
    "        if (probe.type == 'frame') and (probe.specie == specie) and (probe_shape[0] <= shape[0]) and (probe_shape[1] <= shape[1]) and(probe_shape[2] >= shape[2]) and(probe_shape[3] >= shape[3]):\n",
    "            if probe.component == 'T' and len(data) == 0:\n",
    "                data = reader.get_frame('T/{}'.format(probe.specie), probe_shape, frame)[shape[0]:shape[2], shape[1]:shape[3]]\n",
    "                data2 = reader2.get_frame('T/{}'.format(probe.specie), probe_shape, frame)[shape[0]:shape[2], shape[1]:shape[3]]\n",
    "data = np.nan_to_num(data)\n",
    "data2 = np.nan_to_num(data2)",
   ]
  },
  {
   "cell_type": "code",
   "execution_count": null,
   "metadata": {},
   "outputs": [],
   "source": [
    "def data_dist(data, n_beans):\n",
    "    fdata = data.flatten()\n",
    "    fdata = fdata[np.logical_not(np.isnan(fdata))]\n",
    "    d_min = np.min(fdata)\n",
    "    d_max = np.max(fdata)\n",
    "    d_range = np.linspace(d_min, d_max, n_beans)\n",
    "    delta = d_range[1] - d_range[0]\n",
    "    distr = np.zeros(n_beans)\n",
    "\n",
    "    for i in fdata:\n",
    "        for j in range(0, n_beans):\n",
    "            if i > d_range[j] and i < d_range[j] + delta:\n",
    "                distr[j] = distr[j] + 1\n",
    "                break\n",
    "\n",
    "    return(d_range, distr)\n"
   ]
  },
  {
   "cell_type": "code",
   "execution_count": null,
   "metadata": {},
   "outputs": [],
   "source": [
    "print(\"Calculating data (1)\")\n",
    "d1_range, d1_distr = data_dist(data, beans)\n",
    "\n",
    "print(\"Calculating data (2)\")\n",
    "d2_range, d2_distr = data_dist(data2, beans)"
   ]
  },
  {
   "cell_type": "code",
   "execution_count": null,
   "metadata": {},
   "outputs": [],
   "source": [
    "mean1 = np.mean(d1_distr)\n",
    "mean2 = np.mean(d2_distr)\n",
    "median1 = np.median(d1_distr)\n",
    "median2 = np.median(d2_distr)\n",
    "sd1 = np.std(d1_distr)\n",
    "sd2 = np.std(d2_distr)\n",
    "variat1 = np.var(d1_distr)\n",
    "variat2 = np.var(d2_distr)\n",
    "\n",
    "print(\"Mean (1):\", mean1, \"Meaian (1):\", median1, \"Standard deviation (1):\", sd1, \"Variance (1):\", variat1)\n",
    "print(\"Mean (2):\", mean2, \"Meaian (2):\", median2, \"Standard deviation (2):\", sd2, \"Variance (2):\", variat2)"
   ]
  },
  {
   "cell_type": "code",
   "execution_count": null,
   "metadata": {},
   "outputs": [],
   "source": [
    "# define plot builder\n",
    "plot = PlotBuilder(0, 0, # let the system detects sizes automatically\n",
    "                   fig_color=cfg.figure_color, \n",
    "                   fig_width=cfg.figure_width,\n",
    "                   fig_height=cfg.figure_height, \n",
    "                   fig_dpi=cfg.figure_dpi,\n",
    "                   font_family=cfg.figure_font_family,\n",
    "                   font_name=cfg.figure_font_name,\n",
    "                   font_size=cfg.figure_font_size,\n",
    "                   tickbox=True, grid=use_grid, is_invert_y_axe=False,\n",
    "                   aspect='auto', guess_number_ticks=20\n",
    "                  )\n",
    "\n",
    "# add subplots\n",
    "plot_t = plot.add_subplot_cartesian_2d(plot_name, 111, x_axe_label=x_axis_label, y_axe_label=y_axis_label)\n",
    "\n",
    "# set y-limits\n",
    "if ylim is not None:\n",
    "    plot_t.set_ylim(ylim)"
   ]
  },
  {
   "cell_type": "code",
   "execution_count": null,
   "metadata": {},
   "outputs": [],
   "source": [
    "plot_t.plot(d1_range, d1_distr, label='1st data distribution')\n",
    "plot_t.plot(d1_range, d2_distr, label='2nd data distribution')\n",
    "\n",
    "# plot_t.plot(d1_range, d1_distr, 'k', label='1st data distribution')\n",
    "# plot_t.plot(d1_range, d2_distr, 'k--', label='2nd data distribution')\n",
    "\n",
    "plot_t.legend(loc='upper right')\n",
    "plot.get_figure().suptitle(\"Time: {:.2e} s\".format(timestamp), x=.85, y=.95)"
   ]
  },
  {
   "cell_type": "code",
   "execution_count": null,
   "metadata": {},
   "outputs": [],
   "source": [
    "plot.show()"
   ]
  }
 ],
 "metadata": {
  "kernelspec": {
   "display_name": "Python 3",
   "language": "python",
   "name": "python3"
  },
  "language_info": {
   "codemirror_mode": {
    "name": "ipython",
    "version": 3
   },
   "file_extension": ".py",
   "mimetype": "text/x-python",
   "name": "python",
   "nbconvert_exporter": "python",
   "pygments_lexer": "ipython3",
   "version": "3.7.3"
  }
 },
 "nbformat": 4,
 "nbformat_minor": 2
}
