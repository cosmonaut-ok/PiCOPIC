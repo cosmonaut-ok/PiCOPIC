{
 "cells": [
  {
   "cell_type": "code",
   "execution_count": 1,
   "metadata": {
    "autoscroll": false,
    "ein.hycell": false,
    "ein.tags": "worksheet-0",
    "slideshow": {
     "slide_type": "-"
    }
   },
   "outputs": [],
   "source": [
    "# define matplotlibplotting backend\n",
    "# %matplotlib -l shows all available backends\n",
    "%matplotlib qt"
   ]
  },
  {
   "cell_type": "code",
   "execution_count": 2,
   "metadata": {
    "autoscroll": false,
    "ein.hycell": false,
    "ein.tags": "worksheet-0",
    "slideshow": {
     "slide_type": "-"
    }
   },
   "outputs": [],
   "source": [
    "import os\n",
    "import numpy as np\n",
    "import string\n",
    "\n",
    "from lib.parameters import Parameters\n",
    "from lib.plot_builder import PlotBuilder\n",
    "from lib.h5_reader import H5Reader\n",
    "from lib.plain_reader import PlainReader"
   ]
  },
  {
   "cell_type": "code",
   "execution_count": 3,
   "metadata": {},
   "outputs": [],
   "source": [
    "##  configuration options\n",
    "config_file = '/home/cosmonaut/models/model37X/c0/parameters.xml'\n",
    "config_file2 = '/home/cosmonaut/models/model37X/w0/parameters.xml'\n",
    "\n",
    "cfg = Parameters(config_file)\n",
    "cfg2 = Parameters(config_file2)\n",
    "\n",
    "# update shape to get custom shaped images\n",
    "# useful to get just part of frame\n",
    "# or get frames, which has smaller shape than full frame\n",
    "shape=[0,0,cfg.number_r_grid, cfg.number_z_grid]\n",
    "\n",
    "timestamp=1e-11\n",
    "longitude=0.25\n",
    "\n",
    "ylim=None\n",
    "show_grid=False\n",
    "use_cache=False\n",
    "cmap='terrain'\n",
    "\n",
    "# color limits (WARNING: clim_estimation may works incorrectly)\n",
    "clim_density = [0, 2e17]\n",
    "specie = 'electrons'\n",
    "\n",
    "image_interpolation = 'nearest'\n",
    "\n",
    "autoselect = True\n",
    "\n",
    "x_axis_label = r'$\\mathit{R (m)}$'\n",
    "y_axis_label = r'$\\mathit{\\rho (m^{-3})}$'\n",
    "cbar_axis_label = r'$\\mathit{\\rho (m^{-3})}$'\n",
    "\n",
    "t_plot_name = r'$\\mathbf{%s\\enspace Temperature\\enspace (\\rho)}$' % specie.capitalize()"
   ]
  },
  {
   "cell_type": "code",
   "execution_count": 4,
   "metadata": {
    "scrolled": false
   },
   "outputs": [],
   "source": [
    "# define reader (plain reader used)\n",
    "if not cfg.use_hdf5:\n",
    "    reader = PlainReader(path = cfg.data_path,\n",
    "                         data_root=cfg.data_root,\n",
    "                         fullframe_size=[cfg.number_r_grid , cfg.number_z_grid],\n",
    "                         fpds=cfg.frames_per_file, \n",
    "                         use_cache=use_cache,\n",
    "                         verbose=True)\n",
    "    reader2 = PlainReader(path = cfg2.data_path,\n",
    "                         data_root=cfg2.data_root,\n",
    "                         fullframe_size=[cfg2.number_r_grid , cfg2.number_z_grid],\n",
    "                         fpds=cfg2.frames_per_file, \n",
    "                         use_cache=use_cache,\n",
    "                         verbose=True)\n",
    "else:\n",
    "    reader = H5Reader(str(os.path.join(cfg.data_path, 'data.h5')), use_cache=use_cache)\n",
    "    reader.verbose = True"
   ]
  },
  {
   "cell_type": "code",
   "execution_count": 5,
   "metadata": {},
   "outputs": [
    {
     "name": "stdout",
     "output_type": "stream",
     "text": [
      "Loading data set T/ions/frame_[0, 0, 127, 1023]/2...done\n",
      "Loading data set T/ions/frame_[0, 0, 127, 1023]/2...done\n"
     ]
    }
   ],
   "source": [
    "# get row number\n",
    "col_number = cfg.get_col_by_longitude(longitude)\n",
    "\n",
    "# get data\n",
    "data = []\n",
    "data2 = []\n",
    "\n",
    "for probe in cfg.probes:\n",
    "    frame = cfg.get_frame_number_by_timestamp(timestamp, probe.schedule)\n",
    "    if (probe.type == 'frame') and (probe.specie == specie) and (probe.r_start == shape[0]) and (probe.z_start == shape[1]) and(probe.r_end == shape[2]) and(probe.z_end == shape[3]):\n",
    "        if probe.component == 'T': data = reader.get_frame('T/{}'.format(probe.specie), shape, frame)[:, col_number]\n",
    "        if probe.component == 'T': data2 = reader2.get_frame('T/{}'.format(probe.specie), shape, frame)[:, col_number]\n",
    "# try bigger frames, if autoselect enabled\n",
    "if len(data) == 0 and autoselect:\n",
    "    for probe in cfg.probes:\n",
    "        probe_shape = [probe.r_start, probe.z_start, probe.r_end, probe.z_end]\n",
    "        frame = cfg.get_frame_number_by_timestamp(timestamp, probe.schedule)\n",
    "        if (probe.type == 'frame') and (probe.specie == specie) and (probe_shape[0] <= shape[0]) and (probe_shape[1] <= shape[1]) and(probe_shape[2] >= shape[2]) and(probe_shape[3] >= shape[3]):\n",
    "            if probe.component == 'T' and len(data) == 0: data = reader.get_frame('T/{}'.format(probe.specie), probe_shape, frame)[shape[0]:shape[2], shape[1]:shape[3]][:, col_number]\n",
    "            if probe.component == 'T' and len(data2) == 0: data2 = reader2.get_frame('T/{}'.format(probe.specie), probe_shape, frame)[shape[0]:shape[2], shape[1]:shape[3]][:, col_number]\n",
    "data = np.nan_to_num(data)\n",
    "data2 = np.nan_to_num(data2)"
   ]
  },
  {
   "cell_type": "code",
   "execution_count": 6,
   "metadata": {
    "scrolled": true
   },
   "outputs": [],
   "source": [
    "# get data size\n",
    "r0 = cfg.get_radius_by_row(shape[0])\n",
    "r1 = cfg.get_radius_by_row(shape[2])\n",
    "data_len = np.linspace(r0, r1, len(data))\n",
    "\n",
    "# define plot builder\n",
    "plot = PlotBuilder(0, 0, # let the system detects sizes automatically\n",
    "                   fig_color=cfg.figure_color, \n",
    "                   fig_width=cfg.figure_width,\n",
    "                   fig_height=cfg.figure_height, \n",
    "                   fig_dpi=cfg.figure_dpi,\n",
    "                   font_family=cfg.figure_font_family,\n",
    "                   font_name=cfg.figure_font_name,\n",
    "                   font_size=cfg.figure_font_size,\n",
    "                   tickbox=True, grid=show_grid, is_invert_y_axe=False,\n",
    "                   aspect='auto', guess_number_ticks=20,\n",
    "                   # number_x_ticks=10, number_y_ticks=10\n",
    "                   x_ticklabel_end=shape[2], y_ticklabel_end=1e-9\n",
    "                  )\n",
    "\n",
    "# add subplots\n",
    "plot_d = plot.add_subplot_cartesian_2d(t_plot_name, 111, x_axe_label=x_axis_label, y_axe_label=y_axis_label)\n",
    "\n",
    "# set y-limits\n",
    "if ylim is not None:\n",
    "    plot_d.set_ylim(ylim)"
   ]
  },
  {
   "cell_type": "code",
   "execution_count": 7,
   "metadata": {},
   "outputs": [],
   "source": [
    "plot.get_figure().suptitle(\"Time: {:.2e} s\".format(timestamp), x=.85, y=.95)\n",
    "\n",
    "# add data\n",
    "plot_d.plot(data_len, data)\n",
    "plot_d.plot(data_len, data2)\n",
    "\n",
    "plot.show()"
   ]
  }
 ],
 "metadata": {
  "kernelspec": {
   "display_name": "Python 3",
   "language": "python",
   "name": "python3"
  },
  "language_info": {
   "codemirror_mode": {
    "name": "ipython",
    "version": 3
   },
   "file_extension": ".py",
   "mimetype": "text/x-python",
   "name": "python",
   "nbconvert_exporter": "python",
   "pygments_lexer": "ipython3",
   "version": "3.7.3"
  },
  "name": "view_3_E_RHObeam_r_z.ipynb"
 },
 "nbformat": 4,
 "nbformat_minor": 2
}
