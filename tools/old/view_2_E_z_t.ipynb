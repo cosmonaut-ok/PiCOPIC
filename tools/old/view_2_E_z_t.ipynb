{
 "cells": [
  {
   "cell_type": "code",
   "execution_count": null,
   "metadata": {
    "autoscroll": false,
    "ein.hycell": false,
    "ein.tags": "worksheet-0",
    "slideshow": {
     "slide_type": "-"
    }
   },
   "outputs": [],
   "source": [
    "# define matplotlibplotting backend\n",
    "# %matplotlib -l shows all available backends\n",
    "%matplotlib qt"
   ]
  },
  {
   "cell_type": "code",
   "execution_count": null,
   "metadata": {
    "autoscroll": false,
    "ein.hycell": false,
    "ein.tags": "worksheet-0",
    "slideshow": {
     "slide_type": "-"
    }
   },
   "outputs": [],
   "source": [
    "import os\n",
    "import numpy as np\n",
    "\n",
    "from lib.parameters import Parameters\n",
    "from lib.plot_builder import PlotBuilder\n",
    "from lib.h5_reader import H5Reader\n",
    "from lib.plain_reader import PlainReader"
   ]
  },
  {
   "cell_type": "code",
   "execution_count": null,
   "metadata": {},
   "outputs": [],
   "source": [
    "##  configuration options\n",
    "config_file = '../testingdir/parameters.xml'\n",
    "\n",
    "cfg = Parameters(config_file)\n",
    "clim_estimation = cfg.get_clim_estimation()\n",
    "\n",
    "radius=0.01\n",
    "time_range=[cfg.start_time, cfg.end_time]\n",
    "use_grid=True\n",
    "cmap='terrain'\n",
    "clim_e_r = [-clim_estimation, clim_estimation]\n",
    "clim_e_z = [-clim_estimation, clim_estimation]\n",
    "use_cache = False\n",
    "verbose = True\n",
    "autoselect = True\n",
    "\n",
    "x_axis_label = r'$\\mathit{Z (m)}$'\n",
    "y_axis_label = r'$\\mathit{t (ns)}$'\n",
    "cbar_axis_label = r'$\\frac{V}{m}$'\n",
    "\n",
    "e_r_plot_name = r'$\\mathbf{Electrical\\enspace Field\\enspace Radial\\enspace Component}\\enspace(E_r)$'\n",
    "e_z_plot_name = r'$\\mathbf{Electrical\\enspace Field\\enspace Longitudal\\enspace Component}\\enspace(E_z)$'\n",
    "\n",
    "cbar_axis_label = r'$\\frac{V}{m}$'"
   ]
  },
  {
   "cell_type": "code",
   "execution_count": null,
   "metadata": {},
   "outputs": [],
   "source": [
    "# define reader (plain reader used)\n",
    "if not cfg.use_hdf5:\n",
    "    reader = PlainReader(path = cfg.data_path,\n",
    "                         data_root=cfg.data_root,\n",
    "                         fullframe_size=[cfg.number_r_grid, cfg.number_z_grid],\n",
    "                         fpds=cfg.frames_per_file, \n",
    "                         use_cache=use_cache,\n",
    "                         verbose=verbose)\n",
    "else:\n",
    "    reader = H5Reader(str(os.path.join(cfg.data_path, 'data.h5')),\n",
    "                      shape=[cfg.number_r_grid , cfg.number_z_grid],\n",
    "                      use_cache=use_cache)\n",
    "    reader.verbose = True"
   ]
  },
  {
   "cell_type": "code",
   "execution_count": null,
   "metadata": {
    "scrolled": true
   },
   "outputs": [],
   "source": [
    "# get data\n",
    "row_number = cfg.get_row_by_radius(radius)\n",
    "\n",
    "data_r = []\n",
    "data_z = []\n",
    "\n",
    "for probe in cfg.probes:\n",
    "    if (probe.type == 'row') and (probe.r_start == row_number):\n",
    "        start_frame = cfg.get_frame_number_by_timestamp(time_range[0], probe.schedule)\n",
    "        end_frame = cfg.get_frame_number_by_timestamp(time_range[1], probe.schedule)\n",
    "        if probe.component == 'E_r': data_r = reader.get_frame_range_row('E_r', row_number, start_frame, end_frame)\n",
    "        if probe.component == 'E_z': data_z = reader.get_frame_range_row('E_z', row_number, start_frame, end_frame)\n",
    "        \n",
    "if (len(data_r) == 0 or len(data_z) == 0) and autoselect:\n",
    "    for probe in cfg.probes:\n",
    "        if (probe.type == 'frame') and (probe.r_start <= row_number) and (probe.z_start == 0) and (probe.r_end >= row_number) and (probe.z_end == cfg.number_z_grid):\n",
    "            shape = [probe.r_start, probe.z_start, probe.r_end, probe.z_end]\n",
    "            start_frame = cfg.get_frame_number_by_timestamp(time_range[0], probe.schedule)\n",
    "            end_frame = cfg.get_frame_number_by_timestamp(time_range[1], probe.schedule)\n",
    "            for piece in range(start_frame, end_frame, cfg.frames_per_file):\n",
    "                if probe.component == 'E_r':\n",
    "                    data_r[piece - start_frame:piece - start_frame + cfg.frames_per_file - 1] = reader.get_frame_range('E_r', shape, piece, piece + cfg.frames_per_file)[:, row_number]\n",
    "                if probe.component == 'E_z':\n",
    "                    data_z[piece - start_frame:piece - start_frame + cfg.frames_per_file - 1] = reader.get_frame_range('E_z', shape, piece, piece + cfg.frames_per_file)[:, row_number]"
   ]
  },
  {
   "cell_type": "code",
   "execution_count": null,
   "metadata": {
    "scrolled": false
   },
   "outputs": [],
   "source": [
    "# define plot builder\n",
    "plot = PlotBuilder(cfg.number_z_grid, len(data_r),\n",
    "                   fig_color=cfg.figure_color, \n",
    "                   fig_width=cfg.figure_width,\n",
    "                   fig_height=cfg.figure_height, \n",
    "                   fig_dpi=cfg.figure_dpi,\n",
    "                   font_family=cfg.figure_font_family,\n",
    "                   font_name=cfg.figure_font_name,\n",
    "                   font_size=cfg.figure_font_size,\n",
    "                   tickbox=True, grid=use_grid, is_invert_y_axe=False,\n",
    "                   aspect='auto', guess_number_ticks=10,\n",
    "                   # number_x_ticks=10, number_y_ticks=10\n",
    "                   x_ticklabel_end=1e-9, y_ticklabel_end=1e-9\n",
    "                  )\n",
    "\n",
    "# add subplots\n",
    "plot_r = plot.add_subplot_cartesian_2d(e_r_plot_name, 121, x_axe_label=x_axis_label, y_axe_label=y_axis_label)\n",
    "plot_z = plot.add_subplot_cartesian_2d(e_z_plot_name, 122, x_axe_label=x_axis_label, y_axe_label=y_axis_label)"
   ]
  },
  {
   "cell_type": "code",
   "execution_count": null,
   "metadata": {},
   "outputs": [],
   "source": [
    "# add images\n",
    "plot.add_image(e_r_plot_name, data_r, cmap=cmap, clim=clim_e_r)\n",
    "plot.add_image(e_z_plot_name, data_z, cmap=cmap, clim=clim_e_z)\n",
    "\n",
    "plot.add_colorbar(e_r_plot_name, ticks=clim_e_r, title=cbar_axis_label, size='10%')\n",
    "plot.add_colorbar(e_z_plot_name, ticks=clim_e_z, title=cbar_axis_label, size='10%')\n",
    "\n",
    "plot.redraw()"
   ]
  }
 ],
 "metadata": {
  "kernelspec": {
   "display_name": "Python 3",
   "language": "python",
   "name": "python3"
  },
  "language_info": {
   "codemirror_mode": {
    "name": "ipython",
    "version": 3
   },
   "file_extension": ".py",
   "mimetype": "text/x-python",
   "name": "python",
   "nbconvert_exporter": "python",
   "pygments_lexer": "ipython3",
   "version": "3.7.3"
  },
  "name": "view_3_E_RHObeam_r_z.ipynb"
 },
 "nbformat": 4,
 "nbformat_minor": 2
}
