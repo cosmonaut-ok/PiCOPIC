{
 "cells": [
  {
   "cell_type": "code",
   "execution_count": 1,
   "metadata": {
    "autoscroll": false,
    "ein.hycell": false,
    "ein.tags": "worksheet-0",
    "slideshow": {
     "slide_type": "-"
    }
   },
   "outputs": [],
   "source": [
    "# define matplotlibplotting backend\n",
    "# %matplotlib -l shows all available backends\n",
    "%matplotlib qt"
   ]
  },
  {
   "cell_type": "code",
   "execution_count": 2,
   "metadata": {
    "autoscroll": false,
    "ein.hycell": false,
    "ein.tags": "worksheet-0",
    "slideshow": {
     "slide_type": "-"
    }
   },
   "outputs": [],
   "source": [
    "import os, sys\n",
    "sys.path.append(os.path.join(os.path.dirname(os.path.dirname(os.path.abspath(os.getcwd()))), \"lib/python\"))\n",
    "\n",
    "import numpy as np\n",
    "\n",
    "from picopic.plot_builder import PlotBuilder\n",
    "from picopic.h5_reader import H5Reader\n"
   ]
  },
  {
   "cell_type": "code",
   "execution_count": 3,
   "metadata": {},
   "outputs": [],
   "source": [
    "# service options\n",
    "delimiter = '/'\n",
    "\n",
    "## configuration options\n",
    "data_path = '/home/cosmonaut/dev/pic/picopic/'\n",
    "\n",
    "if os.path.isfile(data_path) or os.path.isfile(os.path.join(data_path, \"data.h5\")):\n",
    "    reader = H5Reader(path = data_path, verbose=True)\n",
    "else:\n",
    "    raise EnvironmentError(\"There is no corresponding data/metadata files in the path \" + data_path + \". Can not continue.\")\n",
    "\n",
    "timestamp=2.85e-10\n",
    "cmap='terrain'\n",
    "image_interpolation = 'nearest'\n",
    "\n",
    "autoselect = True\n",
    "show_grid=False\n",
    "\n",
    "dim_size = 0.01\n",
    "\n",
    "dim = 'radius'\n",
    "\n",
    "guess_number_ticks=20\n",
    "ylim = None\n",
    "\n",
    "cmp = 'E/r'\n",
    "specie = None # simply init with none. Replace with required specie for specied grids\n",
    "probe_path = None\n",
    "\n",
    "if specie:\n",
    "    probe_path = cmp + delimiter + specie\n",
    "else:\n",
    "    probe_path = cmp\n",
    "\n",
    "# update shape to get custom shaped images\n",
    "# useful to get just part of frame\n",
    "# or get frames, which has smaller shape than full frame\n",
    "size=[0, 0, reader.meta.geometry_grid[0], reader.meta.geometry_grid[1]]\n",
    "\n",
    "r_scale = (size[2] - size[0]) / reader.meta.geometry_grid[0]\n",
    "z_scale = (size[3] - size[1]) / reader.meta.geometry_grid[1]\n",
    "\n",
    "# color limits (WARNING: clim_estimation may works incorrectly)\n",
    "clim_estimation = reader.meta.get_clim_estimation()\n",
    "clim = [-clim_estimation, clim_estimation]\n",
    "\n",
    "x_axis_label = r'$\\mathit{Z (m)}$'\n",
    "y_axis_label = r'$\\mathit{R (m)}$'\n",
    "cbar_axis_label = r'$\\frac{V}{m}$'\n",
    "\n",
    "plot_name = r\"$\\mathbf{{Mesh\\enspace Color\\enspace Map\\enspace for\\enspace {x}}}$\".format(x=probe_path)"
   ]
  },
  {
   "cell_type": "code",
   "execution_count": 4,
   "metadata": {},
   "outputs": [
    {
     "name": "stdout",
     "output_type": "stream",
     "text": [
      "Loading data set E/r/rec:0-64_0-256/57...done\n"
     ]
    }
   ],
   "source": [
    "dim_mesh_number = 0\n",
    "\n",
    "if dim == 'radius':\n",
    "    dim_mesh_number = reader.meta.get_row_by_radius(dim_size)\n",
    "elif dim == 'longitude':\n",
    "    dim_mesh_number = reader.meta.get_col_by_longitude(dim_size)\n",
    "else:\n",
    "    raise ValueError(\"Dimension name\", dim, \"is wrong\")\n",
    "\n",
    "# get data\n",
    "data = []\n",
    "\n",
    "for probe in reader.meta.probes:\n",
    "    frame = reader.meta.get_frame_number_by_timestamp(timestamp, probe.schedule)\n",
    "    if dim == 'radius':\n",
    "        if probe.shape == 'row' and probe.size[2] == dim_mesh_number and probe.component == cmp:\n",
    "            data = reader.row(probe_path, probe.size, frame)\n",
    "    elif dim == 'longitude':\n",
    "        if probe.shape == 'col' and probe.size[3] == dim_mesh_number and probe.component == cmp:\n",
    "            data = reader.col(probe_path, probe.size, frame)\n",
    "\n",
    "# try bigger frames, if autoselect enabled\n",
    "if len(data) == 0 and autoselect:\n",
    "    for probe in reader.meta.probes:\n",
    "        frame = reader.meta.get_frame_number_by_timestamp(timestamp, probe.schedule)\n",
    "        if ( probe.shape == 'rec'\n",
    "            and probe.component == cmp\n",
    "            and probe.size[1] == 0\n",
    "            and probe.size[0] <= dim_mesh_number\n",
    "            and probe.size[3] == reader.meta.geometry_grid[1]\n",
    "            and probe.size[2] >= dim_mesh_number ):\n",
    "            if dim == 'radius':\n",
    "                data = reader.row_rec(probe_path, dim_mesh_number, probe.size, frame)\n",
    "            elif dim == 'longitude':\n",
    "                data = reader.col_rec(probe_path, dim_mesh_number, probe.size, frame)"
   ]
  },
  {
   "cell_type": "code",
   "execution_count": 5,
   "metadata": {},
   "outputs": [],
   "source": [
    "data_len = np.linspace(size[0], size[2], len(data))\n",
    "\n",
    "# define plot builder\n",
    "plot = PlotBuilder(0, 0,\n",
    "                   fig_color=reader.meta.figure_color, \n",
    "                   fig_width=reader.meta.figure_width,\n",
    "                   fig_height=reader.meta.figure_height, \n",
    "                   fig_dpi=reader.meta.figure_dpi,\n",
    "                   font_family=reader.meta.figure_font_family,\n",
    "                   font_name=reader.meta.figure_font_name,\n",
    "                   font_size=reader.meta.figure_font_size,\n",
    "                   \n",
    "                   x_ticklabel_end=reader.meta.geometry_size[1] * z_scale,\n",
    "                   y_ticklabel_end=reader.meta.geometry_size[0] * r_scale,\n",
    "                   tickbox=True, grid=show_grid, is_invert_y_axe=False,\n",
    "                   aspect='auto', image_interpolation=image_interpolation, \n",
    "                   guess_number_ticks = guess_number_ticks)"
   ]
  },
  {
   "cell_type": "code",
   "execution_count": 6,
   "metadata": {},
   "outputs": [],
   "source": [
    "# set y-limits\n",
    "if ylim is not None:\n",
    "    plot.set_ylim(ylim)\n",
    "\n",
    "# add subplots\n",
    "sub_plot = plot.add_subplot_cartesian_2d(plot_name, 111, x_axe_label=x_axis_label, y_axe_label=y_axis_label)\n",
    "\n",
    "plot.get_figure().suptitle(\"Time: {:.2e} s\".format(timestamp), x=.85, y=.95)\n",
    "\n",
    "# add data\n",
    "sub_plot.plot(data_len, data)\n",
    "\n",
    "plot.show()"
   ]
  },
  {
   "cell_type": "code",
   "execution_count": null,
   "metadata": {},
   "outputs": [],
   "source": []
  }
 ],
 "metadata": {
  "kernelspec": {
   "display_name": "Python 3",
   "language": "python",
   "name": "python3"
  },
  "language_info": {
   "codemirror_mode": {
    "name": "ipython",
    "version": 3
   },
   "file_extension": ".py",
   "mimetype": "text/x-python",
   "name": "python",
   "nbconvert_exporter": "python",
   "pygments_lexer": "ipython3",
   "version": "3.7.6"
  },
  "name": "mesh.ipynb"
 },
 "nbformat": 4,
 "nbformat_minor": 2
}
