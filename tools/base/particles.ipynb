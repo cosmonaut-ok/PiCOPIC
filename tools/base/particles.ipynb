{
 "cells": [
  {
   "cell_type": "code",
   "execution_count": 1,
   "metadata": {
    "autoscroll": false,
    "ein.hycell": false,
    "ein.tags": "worksheet-0",
    "slideshow": {
     "slide_type": "-"
    }
   },
   "outputs": [],
   "source": [
    "# define matplotlibplotting backend\n",
    "# %matplotlib -l shows all available backends\n",
    "%matplotlib qt"
   ]
  },
  {
   "cell_type": "code",
   "execution_count": 2,
   "metadata": {
    "autoscroll": false,
    "ein.hycell": false,
    "ein.tags": "worksheet-0",
    "slideshow": {
     "slide_type": "-"
    }
   },
   "outputs": [],
   "source": [
    "import os, sys\n",
    "sys.path.append(os.path.join(os.path.dirname(os.path.dirname(os.path.abspath(os.getcwd()))), \"lib/python\"))\n",
    "\n",
    "import numpy as np\n",
    "\n",
    "from picopic.plot_builder import PlotBuilder\n",
    "from picopic.h5_reader import H5Reader\n",
    "from picopic.plain_reader import PlainReader"
   ]
  },
  {
   "cell_type": "code",
   "execution_count": 3,
   "metadata": {},
   "outputs": [],
   "source": [
    "##  configuration options\n",
    "data_path = '../../'\n",
    "\n",
    "timestamp=0\n",
    "show_grid=False\n",
    "use_cache=False\n",
    "cmap='terrain'\n",
    "\n",
    "if os.path.isfile(os.path.join(data_path, \"metadata.json\")):\n",
    "    reader = PlainReader(path = data_path, use_cache=use_cache, verbose=True)\n",
    "elif os.path.isfile(data_path) or os.path.isfile(os.path.join(data_path, \"data.h5\")):\n",
    "    reader = H5Reader(path = data_path, use_cache=use_cache, verbose=True)\n",
    "else:\n",
    "    raise EnvironmentError(\"There is no corresponding data/metadata files in the path \" + data_path + \". Can not continue.\")\n",
    "\n",
    "cmp = 'position' # component\n",
    "specie = 'electrons'\n",
    "shape = 'rec'\n",
    "# color limits (WARNING: clim_estimation may works incorrectly)\n",
    "clim_estimation = 1 # cfg.get_clim_estimation()\n",
    "clim = [-clim_estimation, clim_estimation]\n",
    "image_interpolation = 'nearest'\n",
    "\n",
    "# update shape to get custom shaped images\n",
    "# useful to get just part of frame\n",
    "# or get frames, which has smaller shape than full frame\n",
    "size=[0, 0, reader.meta.geometry_grid[0], reader.meta.geometry_grid[1]]\n",
    "\n",
    "autoselect = True\n",
    "\n",
    "x_axis_label = r'$\\mathit{Z (m)}$'\n",
    "y_axis_label = r'$\\mathit{R (m)}$'\n",
    "\n",
    "plot_name = r'$\\mathbf{Something\\enspace to\\enspace Debug}$'"
   ]
  },
  {
   "cell_type": "code",
   "execution_count": 4,
   "metadata": {
    "scrolled": false
   },
   "outputs": [],
   "source": [
    "# define plot builder\n",
    "plot = PlotBuilder(0, 0,\n",
    "                   fig_color=reader.meta.figure_color,\n",
    "                   fig_width=reader.meta.figure_width,\n",
    "                   fig_height=reader.meta.figure_height,\n",
    "                   fig_dpi=reader.meta.figure_dpi,\n",
    "                   font_family=reader.meta.figure_font_family,\n",
    "                   font_name=reader.meta.figure_font_name,\n",
    "                   font_size=reader.meta.figure_font_size,\n",
    "                   tickbox=True, grid=show_grid, is_invert_y_axe=False,\n",
    "                   aspect='auto', guess_number_ticks=20,\n",
    "                   x_ticklabel_end=1e-9, y_ticklabel_end=1e-9)"
   ]
  },
  {
   "cell_type": "code",
   "execution_count": 5,
   "metadata": {},
   "outputs": [
    {
     "name": "stdout",
     "output_type": "stream",
     "text": [
      "Loading data set position/electrons/rec:0-128_0-512/0_0...done\n",
      "Loading data set position/electrons/rec:0-128_0-512/0_1...done\n",
      "Loading data set position/electrons/rec:0-128_0-512/0_2...done\n"
     ]
    }
   ],
   "source": [
    "# get data\n",
    "data_r = data_z = data_phi = []\n",
    "\n",
    "for probe in reader.meta.probes:\n",
    "    frame = reader.meta.get_frame_number_by_timestamp(timestamp, probe.schedule)\n",
    "    if (probe.shape == 'rec') and (probe.size[0] == size[0]) and (probe.size[1] == size[1]) and(probe.size[2] == size[2]) and(probe.size[3] == size[3]):\n",
    "        if probe.component == cmp: \n",
    "            data_r = reader.get_frame(\"{}/{}\".format(cmp, specie), size, \"{}_0\".format(frame))\n",
    "            data_phi = reader.get_frame(\"{}/{}\".format(cmp, specie), size, \"{}_1\".format(frame))\n",
    "            data_z = reader.get_frame(\"{}/{}\".format(cmp, specie), size, \"{}_2\".format(frame))"
   ]
  },
  {
   "cell_type": "code",
   "execution_count": 6,
   "metadata": {},
   "outputs": [],
   "source": [
    "# add subplots\n",
    "plot_p = plot.add_subplot_cartesian_2d(plot_name, 111, x_axe_label=x_axis_label, y_axe_label=y_axis_label)\n",
    "\n",
    "# add timestamp to plot\n",
    "plot.get_figure().suptitle(\"Time: {:.2e} s\".format(timestamp), x=.85, y=.95)\n",
    "\n",
    "# plot_p.set_xlim([0,reader.meta.geometry_size[1]])\n",
    "# plot_p.set_ylim([0,reader.meta.geometry_size[0]])\n",
    "# add images\n",
    "plot_p.plot(data_z, data_r, 'b,')\n",
    "\n",
    "plot.show()"
   ]
  }
 ],
 "metadata": {
  "kernelspec": {
   "display_name": "Python 3",
   "language": "python",
   "name": "python3"
  },
  "language_info": {
   "codemirror_mode": {
    "name": "ipython",
    "version": 3
   },
   "file_extension": ".py",
   "mimetype": "text/x-python",
   "name": "python",
   "nbconvert_exporter": "python",
   "pygments_lexer": "ipython3",
   "version": "3.7.4"
  },
  "name": "view_3_E_RHObeam_r_z.ipynb"
 },
 "nbformat": 4,
 "nbformat_minor": 2
}
