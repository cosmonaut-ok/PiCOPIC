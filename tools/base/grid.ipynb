{
 "cells": [
  {
   "cell_type": "code",
   "execution_count": null,
   "metadata": {
    "autoscroll": false,
    "ein.hycell": false,
    "ein.tags": "worksheet-0",
    "slideshow": {
     "slide_type": "-"
    }
   },
   "outputs": [],
   "source": [
    "# define matplotlibplotting backend\n",
    "# %matplotlib -l shows all available backends\n",
    "%matplotlib qt"
   ]
  },
  {
   "cell_type": "code",
   "execution_count": null,
   "metadata": {},
   "outputs": [],
   "source": [
    "%%javascript\n",
    "// Fetch and decode the notebook filename\n",
    "var notebookFilename = decodeURIComponent(\n",
    "    window.document.body.dataset.notebookName\n",
    ");\n",
    "// Drop the filename into a Python variable\n",
    "Jupyter.notebook.kernel.execute(\n",
    "    `notebook_filename = \"${notebookFilename}\"`\n",
    ");"
   ]
  },
  {
   "cell_type": "code",
   "execution_count": null,
   "metadata": {
    "autoscroll": false,
    "ein.hycell": false,
    "ein.tags": "worksheet-0",
    "slideshow": {
     "slide_type": "-"
    }
   },
   "outputs": [],
   "source": [
    "import os, sys\n",
    "sys.path.append(os.path.join(os.path.dirname(os.path.dirname(os.path.abspath(os.getcwd()))), \"lib/python\"))\n",
    "\n",
    "import numpy as np\n",
    "\n",
    "from picopic.cfg import Cfg\n",
    "from picopic.plot_builder import PlotBuilder\n",
    "from picopic.h5_reader import H5Reader\n",
    "from picopic.plain_reader import PlainReader"
   ]
  },
  {
   "cell_type": "code",
   "execution_count": null,
   "metadata": {},
   "outputs": [],
   "source": [
    "##  configuration options\n",
    "el_charge = 1.6e-19\n",
    "rho_beam_scale = 1\n",
    "config_file = '../PicoPIC.json'\n",
    "\n",
    "cfg = Cfg(config_file)\n",
    "\n",
    "# update shape to get custom shaped images\n",
    "# useful to get just part of frame\n",
    "# or get frames, which has smaller shape than full frame\n",
    "size=[0, 0, cfg.geometry_grid[0], cfg.geometry_grid[1]]\n",
    "\n",
    "timestamp=5e-10\n",
    "show_grid=False\n",
    "use_cache=False\n",
    "cmap='terrain'\n",
    "\n",
    "cmp = 'E_r' # component\n",
    "specie = 'None'\n",
    "\n",
    "# color limits (WARNING: clim_estimation may works incorrectly)\n",
    "clim_estimation = 1e5 # cfg.get_clim_estimation()\n",
    "clim = [-clim_estimation, clim_estimation]\n",
    "image_interpolation = 'nearest'\n",
    "\n",
    "autoselect = True\n",
    "\n",
    "x_axis_label = r'$\\mathit{Z (m)}$'\n",
    "y_axis_label = r'$\\mathit{R (m)}$'\n",
    "cbar_axis_label = r'$\\frac{V}{m}$'\n",
    "cbar_bunch_density_axis_label = r'$m^{-3}$'\n",
    "\n",
    "plot_name = r'$\\mathbf{Something\\enspace to\\enspace Debug}$'"
   ]
  },
  {
   "cell_type": "code",
   "execution_count": null,
   "metadata": {
    "scrolled": false
   },
   "outputs": [],
   "source": [
    "# define reader (plain reader used)\n",
    "if not cfg.use_hdf5:\n",
    "    reader = PlainReader(path = cfg.data_path,\n",
    "                         fullframe_size=cfg.geometry_grid,\n",
    "                         fpds=1, \n",
    "                         use_cache=use_cache,\n",
    "                         verbose=True)\n",
    "else:\n",
    "    reader = H5Reader(str(os.path.join(cfg.data_path, 'data.h5')), use_cache=use_cache)\n",
    "    reader.verbose = True\n",
    "\n",
    "r_scale = (size[2] - size[0]) / cfg.geometry_grid[0]\n",
    "z_scale = (size[3] - size[1]) / cfg.geometry_grid[1]\n",
    "\n",
    "# define plot builder\n",
    "plot = PlotBuilder(size[3] - size[1], size[2] - size[0],\n",
    "                   fig_color=cfg.figure_color, \n",
    "                   fig_width=cfg.figure_width,\n",
    "                   fig_height=cfg.figure_height, \n",
    "                   fig_dpi=cfg.figure_dpi,\n",
    "                   font_family=cfg.figure_font_family,\n",
    "                   font_name=cfg.figure_font_name,\n",
    "                   font_size=cfg.figure_font_size,\n",
    "                   \n",
    "                   x_ticklabel_end=cfg.geometry_size[1] * z_scale, y_ticklabel_end=cfg.geometry_size[0] * r_scale,\n",
    "                   tickbox=True, grid=show_grid, is_invert_y_axe=False,\n",
    "                   aspect='equal', image_interpolation=image_interpolation, guess_number_ticks=20)"
   ]
  },
  {
   "cell_type": "code",
   "execution_count": null,
   "metadata": {},
   "outputs": [],
   "source": [
    "# get data\n",
    "data = []\n",
    "\n",
    "for probe in cfg.probes:\n",
    "    frame = cfg.get_frame_number_by_timestamp(timestamp, probe.schedule)\n",
    "    if (probe.shape == 'rec') and (probe.size[0] == size[0]) and (probe.size[1] == size[1]) and(probe.size[2] == size[2]) and(probe.size[3] == size[3]):\n",
    "        if probe.component == cmp: data = reader.get_frame(\"{}\".format(cmp), size, frame)\n",
    "\n",
    "# try bigger frames, if autoselect enabled\n",
    "if len(data) == 0 and autoselect:\n",
    "    for probe in cfg.probes:\n",
    "        frame = cfg.get_frame_number_by_timestamp(timestamp, probe.schedule)\n",
    "        if (probe.shape == 'rec') and (probe.size[0] <= size[0]) and (probe.size[1] <= size[1]) and(probe.size[2] >= size[2]) and(probe.size[3] >= size[3]):\n",
    "            if probe.component == cmp and len(data) == 0: data = reader.get_frame(\"{}\".format(cmp), probe.size, frame)[size[0]:size[2], size[1]:size[3]]"
   ]
  },
  {
   "cell_type": "code",
   "execution_count": null,
   "metadata": {},
   "outputs": [],
   "source": [
    "# add subplots\n",
    "plot.add_subplot_cartesian_2d(plot_name, 111, x_axe_label=x_axis_label, y_axe_label=y_axis_label)\n",
    "\n",
    "# add timestamp to plot\n",
    "plot.get_figure().suptitle(\"Time: {:.2e} s\".format(timestamp), x=.85, y=.95)\n",
    "\n",
    "# add images\n",
    "plot.add_image(plot_name, data, cmap=cmap, clim=clim)\n",
    "\n",
    "# add colorbars\n",
    "plot.add_colorbar(plot_name, ticks=clim, title=cbar_axis_label)\n",
    "\n",
    "plot.show()"
   ]
  }
 ],
 "metadata": {
  "kernelspec": {
   "display_name": "Python 3",
   "language": "python",
   "name": "python3"
  },
  "language_info": {
   "codemirror_mode": {
    "name": "ipython",
    "version": 3
   },
   "file_extension": ".py",
   "mimetype": "text/x-python",
   "name": "python",
   "nbconvert_exporter": "python",
   "pygments_lexer": "ipython3",
   "version": "3.7.3"
  },
  "name": "view_3_E_RHObeam_r_z.ipynb"
 },
 "nbformat": 4,
 "nbformat_minor": 2
}
