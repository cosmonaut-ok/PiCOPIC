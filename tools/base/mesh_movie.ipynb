{
 "cells": [
  {
   "cell_type": "code",
   "execution_count": null,
   "metadata": {
    "autoscroll": false,
    "ein.hycell": false,
    "ein.tags": "worksheet-0",
    "slideshow": {
     "slide_type": "-"
    }
   },
   "outputs": [],
   "source": [
    "# define matplotlibplotting backend\n",
    "# %matplotlib -l shows all available backends\n",
    "%matplotlib qt"
   ]
  },
  {
   "cell_type": "code",
   "execution_count": null,
   "metadata": {
    "autoscroll": false,
    "ein.hycell": false,
    "ein.tags": "worksheet-0",
    "slideshow": {
     "slide_type": "-"
    }
   },
   "outputs": [],
   "source": [
    "import os, sys, re\n",
    "sys.path.append(os.path.join(os.path.dirname(os.path.dirname(os.path.abspath(os.getcwd()))), \"lib/python\"))\n",
    "\n",
    "import numpy as np\n",
    "import matplotlib.animation as ani\n",
    "\n",
    "from picopic.plot_builder import PlotBuilder\n",
    "from picopic.h5_reader import H5Reader"
   ]
  },
  {
   "cell_type": "code",
   "execution_count": null,
   "metadata": {},
   "outputs": [],
   "source": [
    "# service options\n",
    "delimiter = '/'\n",
    "\n",
    "## configuration options\n",
    "data_path = '.'\n",
    "\n",
    "if os.path.isfile(data_path) or os.path.isfile(os.path.join(data_path, \"data.h5\")):\n",
    "    reader = H5Reader(path = data_path, verbose=False)\n",
    "else:\n",
    "    raise EnvironmentError(\"There is no corresponding data/metadata files in the path \" + data_path + \". Can not continue.\")\n",
    "\n",
    "time_range = [reader.meta.time[0], reader.meta.time[1]]\n",
    "frame_step = 1\n",
    "frame_size = [0, 0, reader.meta.geometry_grid[0], reader.meta.geometry_grid[1]]\n",
    "\n",
    "cmap='terrain'\n",
    "image_interpolation = 'nearest'\n",
    "\n",
    "autoselect = True\n",
    "show_grid = False\n",
    "aspect='equal'\n",
    "\n",
    "guess_number_ticks=20\n",
    "\n",
    "cmp = 'E/r'\n",
    "specie = None # simply init with none. Replace with required specie for specied grids\n",
    "probe_path = None\n",
    "\n",
    "dry_run = False\n",
    "view = False\n",
    "\n",
    "if specie:\n",
    "    probe_path = cmp + delimiter + specie\n",
    "else:\n",
    "    probe_path = cmp\n",
    "\n",
    "video_file = \"mesh_movie_{}.avi\".format(re.sub(delimiter, '-', probe_path))\n",
    "\n",
    "# update shape to get custom shaped images\n",
    "# useful to get just part of frame\n",
    "# or get frames, which has smaller shape than full frame\n",
    "size=[0, 0, reader.meta.geometry_grid[0], reader.meta.geometry_grid[1]]\n",
    "\n",
    "r_scale = reader.meta.geometry_size[0] / reader.meta.geometry_grid[0]\n",
    "z_scale = reader.meta.geometry_size[1] / reader.meta.geometry_grid[1]\n",
    "\n",
    "# color limits (WARNING: clim_estimation may works incorrectly)\n",
    "clim_estimation = reader.meta.get_clim_estimation()\n",
    "clim = [-clim_estimation, clim_estimation]\n",
    "\n",
    "x_axis_label = r'$\\mathit{z\\enspace (m)}$'\n",
    "y_axis_label = r'$\\mathit{r\\enspace (m)}$'\n",
    "cbar_axis_label = r'$\\frac{V}{m}$'\n",
    "\n",
    "plot_name = r\"$\\mathbf{{Mesh\\enspace Color\\enspace Map\\enspace for\\enspace {x}}}$\".format(x=probe_path)"
   ]
  },
  {
   "cell_type": "code",
   "execution_count": null,
   "metadata": {
    "scrolled": false
   },
   "outputs": [],
   "source": [
    "# define plot builder\n",
    "plot = PlotBuilder(size[3] - size[1], size[2] - size[0],\n",
    "                   fig_color=reader.meta.figure_color, \n",
    "                   fig_width=reader.meta.figure_width,\n",
    "                   fig_height=reader.meta.figure_height, \n",
    "                   fig_dpi=reader.meta.figure_dpi,\n",
    "                   font_family=reader.meta.figure_font_family,\n",
    "                   font_name=reader.meta.figure_font_name,\n",
    "                   font_size=reader.meta.figure_font_size,\n",
    "                   \n",
    "                   x_ticklabel_start=size[1] * z_scale, \n",
    "                   y_ticklabel_start=size[0] * r_scale,\n",
    "                   x_ticklabel_end=size[3] * z_scale, \n",
    "                   y_ticklabel_end=size[2] * r_scale,\n",
    "                   tickbox=True, grid=show_grid, is_invert_y_axe=False,\n",
    "                   aspect=aspect, image_interpolation=image_interpolation,\n",
    "                   guess_number_ticks=guess_number_ticks)"
   ]
  },
  {
   "cell_type": "code",
   "execution_count": null,
   "metadata": {},
   "outputs": [],
   "source": [
    "# add subplots\n",
    "plot.add_subplot_cartesian_2d(plot_name, 111, x_axe_label=x_axis_label, y_axe_label=y_axis_label)\n",
    "\n",
    "# add timestamp to plot\n",
    "# plot.get_figure().suptitle(\"Time: {:.2e} s\".format(timestamp), x=.85, y=.95)\n",
    "\n",
    "# add initial image\n",
    "initial_image = np.zeros([frame_size[2] - frame_size[0], frame_size[3] - frame_size[1]])\n",
    "plot.add_image(plot_name, initial_image, cmap=cmap, clim=clim)\n",
    "plot.add_colorbar(plot_name, ticks=clim, title=cbar_axis_label)"
   ]
  },
  {
   "cell_type": "code",
   "execution_count": null,
   "metadata": {},
   "outputs": [],
   "source": [
    "schedule = 0\n",
    "\n",
    "for p in reader.meta.probes:\n",
    "    if p.component == cmp and (specie == None or p.specie == specie):\n",
    "        schedule = p.schedule\n",
    "        break\n",
    "        \n",
    "start_frame = reader.meta.get_frame_number_by_timestamp(time_range[0], schedule)\n",
    "end_frame = reader.meta.get_frame_number_by_timestamp(time_range[1], schedule)\n",
    "\n",
    "frame_src_size=[-1, -1, -1, -1]\n",
    "    \n",
    "# detect probe shape\n",
    "for probe in reader.meta.probes:\n",
    "    if ( probe.shape == 'rec'\n",
    "        and probe.component == cmp\n",
    "        and (specie == None or probe.specie == specie)\n",
    "        and probe.size[0] == frame_size[0]\n",
    "        and probe.size[1] == frame_size[1]\n",
    "        and probe.size[2] == frame_size[2]\n",
    "        and probe.size[3] == frame_size[3] ):\n",
    "        frame_src_size = probe.size\n",
    "        \n",
    "    # try bigger frames, if autoselect enabled\n",
    "    if ( ( frame_src_size[0] == -1 \n",
    "          or frame_src_size[1] == -1 \n",
    "          or frame_src_size[2] == -1 \n",
    "          or frame_src_size[3] == -1 )\n",
    "        and autoselect ):\n",
    "        for probe in reader.meta.probes:\n",
    "            if ( probe.shape == 'rec'\n",
    "                and probe.component == cmp\n",
    "                and (specie == None or probe.specie == specie)\n",
    "                and probe.size[0] <= frame_size[0]\n",
    "                and probe.size[1] <= frame_size[1]\n",
    "                and probe.size[2] >= frame_size[2]\n",
    "                and probe.size[3] >= frame_size[3] ):\n",
    "                frame_src_size = probe.size"
   ]
  },
  {
   "cell_type": "code",
   "execution_count": null,
   "metadata": {
    "scrolled": true
   },
   "outputs": [],
   "source": [
    "FFMpegWriter = ani.writers['ffmpeg']\n",
    "\n",
    "metadata = dict(title = plot_name)\n",
    "writer = FFMpegWriter(fps = reader.meta.video_fps,\n",
    "                      metadata = metadata,\n",
    "                      codec = reader.meta.video_codec,\n",
    "                      bitrate = reader.meta.video_bitrate)\n",
    "\n",
    "if dry_run: video_file = '/dev/null'\n",
    "fig = plot.get_figure()\n",
    "\n",
    "with writer.saving(fig, video_file, reader.meta.figure_dpi):\n",
    "    for i in range(start_frame, end_frame):\n",
    "        if i % frame_step == 0:\n",
    "            sys.stdout.write('Loading dataset ' + str(i) + '... ')\n",
    "            sys.stdout.flush()\n",
    "            data = reader.rec(probe_path, frame_src_size, i)[frame_size[0]:frame_size[2], frame_size[1]:frame_size[3]]\n",
    "\n",
    "            # add timestamp to each frame\n",
    "            timestamp = reader.meta.get_timestamp_by_frame_number(i, schedule)\n",
    "            fig.suptitle(\"Time: {:.2e} s\".format(timestamp), x=.85, y=.95)\n",
    "            \n",
    "            plot.add_image(plot_name, data, cmap=cmap, clim=clim)\n",
    "\n",
    "            if view: plot.redraw()\n",
    "            if not dry_run: \n",
    "                writer.grab_frame()\n",
    "\n",
    "            print('DONE')"
   ]
  }
 ],
 "metadata": {
  "kernelspec": {
   "display_name": "Python 3",
   "language": "python",
   "name": "python3"
  },
  "language_info": {
   "codemirror_mode": {
    "name": "ipython",
    "version": 3
   },
   "file_extension": ".py",
   "mimetype": "text/x-python",
   "name": "python",
   "nbconvert_exporter": "python",
   "pygments_lexer": "ipython3",
   "version": "3.7.7"
  },
  "name": "view_3_E_RHObeam_r_z.ipynb"
 },
 "nbformat": 4,
 "nbformat_minor": 2
}
