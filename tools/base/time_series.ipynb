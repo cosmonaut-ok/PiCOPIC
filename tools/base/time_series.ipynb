{
 "cells": [
  {
   "cell_type": "code",
   "execution_count": null,
   "metadata": {
    "autoscroll": false,
    "ein.hycell": false,
    "ein.tags": "worksheet-0",
    "slideshow": {
     "slide_type": "-"
    }
   },
   "outputs": [],
   "source": [
    "# define matplotlibplotting backend\n",
    "# %matplotlib -l shows all available backends\n",
    "%matplotlib qt"
   ]
  },
  {
   "cell_type": "code",
   "execution_count": null,
   "metadata": {
    "autoscroll": false,
    "ein.hycell": false,
    "ein.tags": "worksheet-0",
    "slideshow": {
     "slide_type": "-"
    }
   },
   "outputs": [],
   "source": [
    "import os, sys, re\n",
    "sys.path.append(os.path.join(os.path.dirname(os.path.dirname(os.path.abspath(os.getcwd()))), \"lib/python\"))\n",
    "\n",
    "import numpy as np\n",
    "\n",
    "from picopic.plot_builder import PlotBuilder\n",
    "from picopic.h5_reader import H5Reader\n"
   ]
  },
  {
   "cell_type": "code",
   "execution_count": null,
   "metadata": {
    "scrolled": true
   },
   "outputs": [],
   "source": [
    "# service options\n",
    "delimiter = '/'\n",
    "\n",
    "## configuration options\n",
    "data_path = '/home/cosmonaut/dev/pic/picopic/'\n",
    "\n",
    "if os.path.isfile(data_path) or os.path.isfile(os.path.join(data_path, \"data.h5\")):\n",
    "    reader = H5Reader(path = data_path, verbose=True)\n",
    "else:\n",
    "    raise EnvironmentError(\"There is no corresponding data/metadata files in the path \" + data_path + \". Can not continue.\")\n",
    "\n",
    "time_range=[reader.meta.time[0], reader.meta.time[1]]\n",
    "radius = 0.02\n",
    "longitude = 0.02\n",
    "ylim = None\n",
    "\n",
    "cmap='terrain'\n",
    "image_interpolation = 'nearest'\n",
    "\n",
    "autoselect = True\n",
    "show_grid=False\n",
    "aspect='equal'\n",
    "\n",
    "guess_number_ticks=20\n",
    "\n",
    "cmp = 'E/r'\n",
    "specie = None # simply init with none. Replace with required specie for specied grids\n",
    "probe_path = None\n",
    "\n",
    "if specie:\n",
    "    probe_path = cmp + delimiter + specie\n",
    "else:\n",
    "    probe_path = cmp\n",
    "\n",
    "deviation = 0\n",
    "\n",
    "x_axis_label = r'$\\mathit{t (s)}$'\n",
    "y_axis_label = r\"$\\mathit{{Amlitude {}}}$\".format(re.sub(delimiter, '_', cmp))\n",
    "\n",
    "plot_name = r\"$\\mathbf{{Time\\enspace Series\\enspace Data\\enspace for\\enspace {x}}}$\".format(x=probe_path)"
   ]
  },
  {
   "cell_type": "code",
   "execution_count": null,
   "metadata": {},
   "outputs": [],
   "source": [
    "start_frame = None\n",
    "end_frame = None\n",
    "row_number = reader.meta.get_row_by_radius(radius)\n",
    "col_number = reader.meta.get_col_by_longitude(longitude)\n",
    "\n",
    "size = []\n",
    "if deviation > 0:\n",
    "    size = [row_number - deviation, col_number - deviation, row_number + deviation, col_number + deviation]\n",
    "\n",
    "# get data\n",
    "data = []\n",
    "\n",
    "if deviation == 0:\n",
    "    for probe in reader.meta.probes:\n",
    "        if ( probe.shape == 'dot' \n",
    "            and probe.component == cmp\n",
    "            and probe.size[0] == row_number\n",
    "            and probe.size[1] == col_number ):\n",
    "            start_frame = reader.meta.get_frame_number_by_timestamp(time_range[0], probe.schedule)\n",
    "            end_frame = reader.meta.get_frame_number_by_timestamp(time_range[1], probe.schedule)\n",
    "            data = reader.dot_range(probe_path, row_number, col_number, start_frame, end_frame)\n",
    "                \n",
    "    if len(data) == 0 and autoselect:\n",
    "        for probe in reader.meta.probes:\n",
    "            if ( probe.shape == 'rec'\n",
    "                and probe.component == cmp\n",
    "                and probe.size[0] <= row_number\n",
    "                and probe.size[1] <= col_number\n",
    "                and probe.size[2] >= row_number\n",
    "                and probe.size[3] >= col_number ):\n",
    "                start_frame = reader.meta.get_frame_number_by_timestamp(time_range[0], probe.schedule)\n",
    "                end_frame = reader.meta.get_frame_number_by_timestamp(time_range[1], probe.schedule)\n",
    "                shape = [probe.size[0], probe.size[1], probe.size[2], probe.size[3]]\n",
    "                data = reader.dot_rec_range(probe_path, row_number, col_number, shape, start_frame, end_frame)            \n",
    "\n",
    "else:\n",
    "    for probe in reader.meta.probes:\n",
    "        if ( probe.shape == 'rec'\n",
    "            and probe.component == cmp\n",
    "            and probe.size[0] == size[0]\n",
    "            and probe.size[1] == size[1]\n",
    "            and probe.size[2] == size[2]\n",
    "            and probe.size[3] == size[3] ):\n",
    "            start_frame = reader.meta.get_frame_number_by_timestamp(time_range[0], probe.schedule)\n",
    "            end_frame = reader.meta.get_frame_number_by_timestamp(time_range[1], probe.schedule)\n",
    "            data = reader.rec_range(probe_path, size, start_frame, end_frame)\n",
    "\n",
    "    # try bigger frames, if autoselect enabled\n",
    "    if len(data) == 0 and autoselect:\n",
    "        for probe in reader.meta.probes:\n",
    "            if ( probe.shape == 'rec'\n",
    "                and probe.component == cmp\n",
    "                and probe.size[0] <= size[0]\n",
    "                and probe.size[1] <= size[1]\n",
    "                and probe.size[2] >= size[2]\n",
    "                and probe.size[3] >= size[3] ):\n",
    "                start_frame = reader.meta.get_frame_number_by_timestamp(time_range[0], probe.schedule)\n",
    "                end_frame = reader.meta.get_frame_number_by_timestamp(time_range[1], probe.schedule)\n",
    "                data = reader.rec_range(probe_path, probe.size, start_frame, end_frame)# [size[0]:size[2], size[1]:size[3]]"
   ]
  },
  {
   "cell_type": "code",
   "execution_count": null,
   "metadata": {},
   "outputs": [],
   "source": [
    "# find mean value at corresponding square\n",
    "if deviation > 0:\n",
    "    data_new = []\n",
    "    lvar = 0\n",
    "    count = len(data[0]) * len(data[0,0])\n",
    "\n",
    "    for ts in data:\n",
    "        for i in ts:\n",
    "            for j in i:\n",
    "                lvar += j\n",
    "        data_new.append(lvar / count)\n",
    "        lvar = 0\n",
    "    data = data_new"
   ]
  },
  {
   "cell_type": "code",
   "execution_count": null,
   "metadata": {},
   "outputs": [],
   "source": [
    "# define plot builder\n",
    "# define plot builder\n",
    "plot = PlotBuilder(0, 0, # let the system detects sizes automatically\n",
    "                   fig_color=reader.meta.figure_color, \n",
    "                   fig_width=reader.meta.figure_width,\n",
    "                   fig_height=reader.meta.figure_height, \n",
    "                   fig_dpi=reader.meta.figure_dpi,\n",
    "                   font_family=reader.meta.figure_font_family,\n",
    "                   font_name=reader.meta.figure_font_name,\n",
    "                   font_size=reader.meta.figure_font_size,\n",
    "                   tickbox=True, grid=show_grid, is_invert_y_axe=False,\n",
    "                   aspect='auto', guess_number_ticks=guess_number_ticks,\n",
    "                   # number_x_ticks=10, number_y_ticks=10\n",
    "                   x_ticklabel_end=1e-9, y_ticklabel_end=1e-9\n",
    "                  )"
   ]
  },
  {
   "cell_type": "code",
   "execution_count": null,
   "metadata": {
    "scrolled": true
   },
   "outputs": [],
   "source": [
    "data_timeline = np.linspace(time_range[0], time_range[1], len(data))\n",
    "\n",
    "# add subplots\n",
    "sub_plot = plot.add_subplot_cartesian_2d(plot_name, 111, x_axe_label=x_axis_label, y_axe_label=y_axis_label)\n",
    "\n",
    "# set y-limits\n",
    "if ylim is not None:\n",
    "    plot.set_ylim(ylim)\n",
    "\n",
    "# add images\n",
    "sub_plot.plot(data_timeline, data)\n",
    "\n",
    "plot.show()"
   ]
  }
 ],
 "metadata": {
  "kernelspec": {
   "display_name": "Python 3",
   "language": "python",
   "name": "python3"
  },
  "language_info": {
   "codemirror_mode": {
    "name": "ipython",
    "version": 3
   },
   "file_extension": ".py",
   "mimetype": "text/x-python",
   "name": "python",
   "nbconvert_exporter": "python",
   "pygments_lexer": "ipython3",
   "version": "3.7.6"
  },
  "name": "mesh.ipynb"
 },
 "nbformat": 4,
 "nbformat_minor": 2
}
