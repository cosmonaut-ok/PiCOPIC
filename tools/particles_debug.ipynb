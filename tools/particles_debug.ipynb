{
 "cells": [
  {
   "cell_type": "code",
   "execution_count": null,
   "metadata": {
    "autoscroll": false,
    "ein.hycell": false,
    "ein.tags": "worksheet-0",
    "slideshow": {
     "slide_type": "-"
    }
   },
   "outputs": [],
   "source": [
    "# define matplotlibplotting backend\n",
    "# %matplotlib -l shows all available backends\n",
    "%matplotlib qt"
   ]
  },
  {
   "cell_type": "code",
   "execution_count": null,
   "metadata": {},
   "outputs": [],
   "source": [
    "%%javascript\n",
    "// Fetch and decode the notebook filename\n",
    "var notebookFilename = decodeURIComponent(\n",
    "    window.document.body.dataset.notebookName\n",
    ");\n",
    "// Drop the filename into a Python variable\n",
    "Jupyter.notebook.kernel.execute(\n",
    "    `notebook_filename = \"${notebookFilename}\"`\n",
    ");"
   ]
  },
  {
   "cell_type": "code",
   "execution_count": null,
   "metadata": {
    "autoscroll": false,
    "ein.hycell": false,
    "ein.tags": "worksheet-0",
    "slideshow": {
     "slide_type": "-"
    }
   },
   "outputs": [],
   "source": [
    "import os, sys\n",
    "sys.path.append(os.path.join(os.path.dirname(os.path.dirname(os.path.abspath(notebook_filename))), \"lib/python\"))\n",
    "\n",
    "import numpy as np\n",
    "\n",
    "from lib.cfg import Cfg\n",
    "from lib.plot_builder import PlotBuilder\n",
    "from lib.h5_reader import H5Reader\n",
    "from lib.plain_reader import PlainReader"
   ]
  },
  {
   "cell_type": "code",
   "execution_count": null,
   "metadata": {},
   "outputs": [],
   "source": [
    "##  configuration options\n",
    "config_file = '../PicoPIC.json'\n",
    "\n",
    "cfg = Cfg(config_file)\n",
    "\n",
    "timestamp=1e-9\n",
    "show_grid=False\n",
    "use_cache=False\n",
    "cmap='terrain'\n",
    "\n",
    "cmp = 'position' # component\n",
    "specie = 'electrons'\n",
    "shape = 'rec'\n",
    "# color limits (WARNING: clim_estimation may works incorrectly)\n",
    "clim_estimation = 1 # cfg.get_clim_estimation()\n",
    "clim = [-clim_estimation, clim_estimation]\n",
    "image_interpolation = 'nearest'\n",
    "\n",
    "autoselect = True\n",
    "\n",
    "x_axis_label = r'$\\mathit{Z (m)}$'\n",
    "y_axis_label = r'$\\mathit{R (m)}$'\n",
    "\n",
    "plot_name = r'$\\mathbf{Something\\enspace to\\enspace Debug}$'"
   ]
  },
  {
   "cell_type": "code",
   "execution_count": null,
   "metadata": {
    "scrolled": false
   },
   "outputs": [],
   "source": [
    "frame_number = 0\n",
    "size = [0,0,0,0]\n",
    "for i in cfg.probes:\n",
    "    if i.component == cmp:\n",
    "        frame_number = timestamp // (cfg.time[2] * i.schedule)\n",
    "        size[0] = i.size[0]\n",
    "        size[1] = i.size[1]\n",
    "        size[2] = i.size[2]\n",
    "        size[3] = i.size[3]\n",
    "\n",
    "particles_file_template = os.path.join(os.path.dirname(config_file), \"simulation_result\", cmp, specie, shape, \"{}-{}_{}-{}\".format(size[0], size[2], size[1], size[3]), str(int(frame_number)))\n",
    "\n",
    "value_r = particles_file_template + '_0.dat'\n",
    "value_phi = particles_file_template + '_1.dat'\n",
    "value_z = particles_file_template + '_2.dat'\n",
    "\n",
    "data_r = np.fromfile(value_r, dtype=float, sep=' ')\n",
    "data_phi = np.fromfile(value_phi, dtype=float, sep=' ')\n",
    "data_z = np.fromfile(value_z, dtype=float, sep=' ')\n",
    "\n",
    "# define plot builder\n",
    "plot = PlotBuilder(0, 0,\n",
    "                   fig_color=cfg.figure_color,\n",
    "                   fig_width=cfg.figure_width,\n",
    "                   fig_height=cfg.figure_height,\n",
    "                   fig_dpi=cfg.figure_dpi,\n",
    "                   font_family=cfg.figure_font_family,\n",
    "                   font_name=cfg.figure_font_name,\n",
    "                   font_size=cfg.figure_font_size,\n",
    "                   tickbox=True, grid=show_grid, is_invert_y_axe=False,\n",
    "                   aspect='auto', guess_number_ticks=20,\n",
    "                   x_ticklabel_end=1e-9, y_ticklabel_end=1e-9)"
   ]
  },
  {
   "cell_type": "code",
   "execution_count": null,
   "metadata": {},
   "outputs": [],
   "source": [
    "# add subplots\n",
    "plot_p = plot.add_subplot_cartesian_2d(plot_name, 111, x_axe_label=x_axis_label, y_axe_label=y_axis_label)\n",
    "\n",
    "# add timestamp to plot\n",
    "plot.get_figure().suptitle(\"Time: {:.2e} s\".format(timestamp), x=.85, y=.95)\n",
    "\n",
    "plot_p.set_xlim([0,cfg.geometry_size[1]])\n",
    "plot_p.set_ylim([0,cfg.geometry_size[0]])\n",
    "# add images\n",
    "plot_p.plot(data_z, data_r, 'b,')\n",
    "\n",
    "plot.show()"
   ]
  }
 ],
 "metadata": {
  "kernelspec": {
   "display_name": "Python 3",
   "language": "python",
   "name": "python3"
  },
  "language_info": {
   "codemirror_mode": {
    "name": "ipython",
    "version": 3
   },
   "file_extension": ".py",
   "mimetype": "text/x-python",
   "name": "python",
   "nbconvert_exporter": "python",
   "pygments_lexer": "ipython3",
   "version": "3.7.4"
  },
  "name": "view_3_E_RHObeam_r_z.ipynb"
 },
 "nbformat": 4,
 "nbformat_minor": 2
}
