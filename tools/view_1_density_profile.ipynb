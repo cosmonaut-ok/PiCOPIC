{
 "cells": [
  {
   "cell_type": "code",
   "execution_count": null,
   "metadata": {
    "autoscroll": false,
    "ein.hycell": false,
    "ein.tags": "worksheet-0",
    "slideshow": {
     "slide_type": "-"
    }
   },
   "outputs": [],
   "source": [
    "# define matplotlibplotting backend\n",
    "# %matplotlib -l shows all available backends\n",
    "%matplotlib qt"
   ]
  },
  {
   "cell_type": "code",
   "execution_count": null,
   "metadata": {
    "autoscroll": false,
    "ein.hycell": false,
    "ein.tags": "worksheet-0",
    "slideshow": {
     "slide_type": "-"
    }
   },
   "outputs": [],
   "source": [
    "import os, sys\n",
    "sys.path.append(os.path.join(os.path.dirname(os.path.abspath(os.getcwd())), \"lib/python\"))\n",
    "\n",
    "import numpy as np\n",
    "\n",
    "from picopic.plot_builder import PlotBuilder\n",
    "from picopic.h5_reader import H5Reader\n",
    "from picopic.plain_reader import PlainReader"
   ]
  },
  {
   "cell_type": "code",
   "execution_count": null,
   "metadata": {},
   "outputs": [],
   "source": [
    "##  configuration options\n",
    "data_path = '../'\n",
    "\n",
    "timestamp=1e-11\n",
    "show_grid=False\n",
    "use_cache=False\n",
    "cmap='terrain'\n",
    "image_interpolation = 'nearest'\n",
    "autoselect = True\n",
    "ylim=None\n",
    "cmp = 'density' # component\n",
    "specie = 'electrons'\n",
    "\n",
    "longitude=0.025\n",
    "\n",
    "if os.path.isfile(os.path.join(data_path, \"metadata.json\")):\n",
    "    reader = PlainReader(path = data_path, use_cache=use_cache, verbose=True)\n",
    "elif os.path.isfile(os.path.join(data_path, \"data.h5\")):\n",
    "    reader = H5Reader(path = data_path, use_cache=use_cache, verbose=True)\n",
    "else:\n",
    "    raise EnvironmentError(\"There is no corresponding data/metadata files in the path \" + data_path + \". Can not continue.\")\n",
    "\n",
    "# update shape to get custom shaped images\n",
    "# useful to get just part of frame\n",
    "# or get frames, which has smaller shape than full frame\n",
    "size=[0, 0, reader.meta.geometry_grid[0], reader.meta.geometry_grid[1]]\n",
    "\n",
    "r_scale = (size[2] - size[0]) / reader.meta.geometry_grid[0]\n",
    "z_scale = (size[3] - size[1]) / reader.meta.geometry_grid[1]\n",
    "\n",
    "# color limits (WARNING: clim_estimation may works incorrectly)\n",
    "clim_estimation = reader.meta.get_clim_estimation()\n",
    "clim = [0, clim_estimation]\n",
    "\n",
    "x_axis_label = r'$\\mathit{R (m)}$'\n",
    "y_axis_label = r'$\\mathit{\\rho (m^{-3})}$'\n",
    "cbar_axis_label = r'$\\mathit{\\rho (m^{-3})}$'\n",
    "\n",
    "t_plot_name = r'$\\mathbf{%s\\enspace Density\\enspace (\\rho)}$' % specie.capitalize()"
   ]
  },
  {
   "cell_type": "code",
   "execution_count": null,
   "metadata": {},
   "outputs": [],
   "source": [
    "col_number = reader.meta.get_col_by_longitude(longitude)\n",
    "\n",
    "# get data\n",
    "data = []\n",
    "\n",
    "for probe in reader.meta.probes:\n",
    "    frame = reader.meta.get_frame_number_by_timestamp(timestamp, probe.schedule)\n",
    "    if (probe.shape == 'col') and (probe.size[2] == col_number):\n",
    "        if probe.component == cmp and probe.specie == specie: data = reader.col(\"{}/{}\".format(cmp, col_number, specie), size, frame)\n",
    "        timestamp = frame * probe.schedule * reader.meta.time[2]\n",
    "\n",
    "# try bigger frames, if autoselect enabled\n",
    "if len(data) == 0 and autoselect:\n",
    "    for probe in reader.meta.probes:\n",
    "        frame = reader.meta.get_frame_number_by_timestamp(timestamp, probe.schedule)\n",
    "        if (probe.shape == 'rec') and (probe.size[0] == 0) and (probe.size[1] <= col_number) and (probe.size[2] == reader.meta.geometry_grid[0]) and(probe.size[3] >= col_number):\n",
    "            if probe.component == cmp and probe.specie == specie and len(data) == 0: data = reader.col_rec(\"{}/{}\".format(cmp, specie), col_number, probe.size, frame)\n",
    "            if probe.component == cmp and probe.specie == specie and len(data) == 0: print(probe.size, col_number, reader.meta.geometry_grid[0], reader.meta.geometry_grid[1], data)\n",
    "            timestamp = frame * probe.schedule * reader.meta.time[2]\n"
   ]
  },
  {
   "cell_type": "code",
   "execution_count": null,
   "metadata": {},
   "outputs": [],
   "source": [
    "data_len = np.linspace(size[0], size[2], len(data))\n",
    "\n",
    "# define plot builder\n",
    "plot = PlotBuilder(0, 0,\n",
    "                   fig_color=reader.meta.figure_color, \n",
    "                   fig_width=reader.meta.figure_width,\n",
    "                   fig_height=reader.meta.figure_height, \n",
    "                   fig_dpi=reader.meta.figure_dpi,\n",
    "                   font_family=reader.meta.figure_font_family,\n",
    "                   font_name=reader.meta.figure_font_name,\n",
    "                   font_size=reader.meta.figure_font_size,\n",
    "                   \n",
    "                   x_ticklabel_end=reader.meta.geometry_size[1] * z_scale,\n",
    "                   y_ticklabel_end=reader.meta.geometry_size[0] * r_scale,\n",
    "                   tickbox=True, grid=show_grid, is_invert_y_axe=False,\n",
    "                   aspect='auto', image_interpolation=image_interpolation, \n",
    "                   guess_number_ticks = 20)\n",
    "\n",
    "# add subplots\n",
    "plot_d = plot.add_subplot_cartesian_2d(t_plot_name, 111, x_axe_label=x_axis_label, y_axe_label=y_axis_label)\n",
    "\n",
    "# set y-limits\n",
    "if ylim is not None:\n",
    "    plot_d.set_ylim(ylim)"
   ]
  },
  {
   "cell_type": "code",
   "execution_count": null,
   "metadata": {},
   "outputs": [],
   "source": [
    "plot.get_figure().suptitle(\"Time: {:.2e} s\".format(timestamp), x=.85, y=.95)\n",
    "\n",
    "# add data\n",
    "plot_d.plot(data_len, data)\n",
    "\n",
    "plot.show()"
   ]
  }
 ],
 "metadata": {
  "kernelspec": {
   "display_name": "Python 3",
   "language": "python",
   "name": "python3"
  },
  "language_info": {
   "codemirror_mode": {
    "name": "ipython",
    "version": 3
   },
   "file_extension": ".py",
   "mimetype": "text/x-python",
   "name": "python",
   "nbconvert_exporter": "python",
   "pygments_lexer": "ipython3",
   "version": "3.7.4"
  },
  "name": "view_3_E_RHObeam_r_z.ipynb"
 },
 "nbformat": 4,
 "nbformat_minor": 2
}
