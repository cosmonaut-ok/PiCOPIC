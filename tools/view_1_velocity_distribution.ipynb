{
 "cells": [
  {
   "cell_type": "code",
   "execution_count": 1,
   "metadata": {
    "autoscroll": false,
    "ein.hycell": false,
    "ein.tags": "worksheet-0",
    "slideshow": {
     "slide_type": "-"
    }
   },
   "outputs": [],
   "source": [
    "# define matplotlibplotting backend\n",
    "# %matplotlib -l shows all available backends\n",
    "%matplotlib qt"
   ]
  },
  {
   "cell_type": "code",
   "execution_count": 2,
   "metadata": {
    "autoscroll": false,
    "ein.hycell": false,
    "ein.tags": "worksheet-0",
    "slideshow": {
     "slide_type": "-"
    }
   },
   "outputs": [],
   "source": [
    "import os, sys\n",
    "sys.path.append(os.path.join(os.path.dirname(os.path.abspath(os.getcwd())), \"lib/python\"))\n",
    "\n",
    "import math\n",
    "import numpy as np\n",
    "import numpy.polynomial.polynomial as poly\n",
    "\n",
    "from picopic.plot_builder import PlotBuilder\n",
    "from picopic.h5_reader import H5Reader\n",
    "from picopic.plain_reader import PlainReader"
   ]
  },
  {
   "cell_type": "code",
   "execution_count": 15,
   "metadata": {},
   "outputs": [],
   "source": [
    "##  configuration options\n",
    "data_path = '../'\n",
    "\n",
    "timestamp=4e-11\n",
    "show_grid=False\n",
    "use_cache=False\n",
    "cmap='terrain'\n",
    "image_interpolation = 'nearest'\n",
    "autoselect = True\n",
    "ylim=None\n",
    "cmp = 'velocity' # component\n",
    "specie = 'electrons'\n",
    "\n",
    "# separate all velocity range to N equal segments\n",
    "# to compare the number of particles in each of them\n",
    "segments = 500\n",
    "\n",
    "use_approx=True # use approximation\n",
    "approx_degree=18 # degree of polynomial approximation\n",
    "use_directed_filter=True\n",
    "\n",
    "longitude=0.025\n",
    "\n",
    "if os.path.isfile(os.path.join(data_path, \"metadata.json\")):\n",
    "    reader = PlainReader(path = data_path, use_cache=use_cache, verbose=True)\n",
    "elif os.path.isfile(os.path.join(data_path, \"data.h5\")):\n",
    "    reader = H5Reader(path = data_path, use_cache=use_cache, verbose=True)\n",
    "else:\n",
    "    raise EnvironmentError(\"There is no corresponding data/metadata files in the path \" + data_path + \". Can not continue.\")\n",
    "\n",
    "# update shape to get custom shaped images\n",
    "# useful to get just part of frame\n",
    "# or get frames, which has smaller shape than full frame\n",
    "# size=[0, 0, reader.meta.geometry_grid[0], reader.meta.geometry_grid[1]]\n",
    "size=[0, 0, 64, 64]\n",
    "# size=[0,200,64,300]\n",
    "\n",
    "r_scale = (size[2] - size[0]) / reader.meta.geometry_grid[0]\n",
    "z_scale = (size[3] - size[1]) / reader.meta.geometry_grid[1]\n",
    "\n",
    "# x_axis_label = r'$\\mathit{R (m)}$'\n",
    "# y_axis_label = r'$\\mathit{\\rho (m^{-3})}$'\n",
    "\n",
    "x_axis_label = r'$\\mathit{t (s)}$'\n",
    "y_r_axis_label = r'$\\mathit{E_r (\\\\frac{V}{m})}$'\n",
    "y_z_axis_label = r'$\\mathit{E_z (\\\\frac{V}{m})}$'\n",
    "\n",
    "ylim_r=None\n",
    "ylim_z=None\n",
    "\n",
    "cbar_axis_label = r'$\\mathit{\\rho (m^{-3})}$'\n",
    "\n",
    "plot_name = r'$\\mathbf{%s\\enspace Density\\enspace (\\rho)}$' % specie.capitalize()"
   ]
  },
  {
   "cell_type": "code",
   "execution_count": 16,
   "metadata": {
    "scrolled": false
   },
   "outputs": [
    {
     "name": "stdout",
     "output_type": "stream",
     "text": [
      "Loading data set velocity/electrons/rec:0-64_0-64/16_0...done\n",
      "Loading data set velocity/electrons/rec:0-64_0-64/16_1...done\n",
      "Loading data set velocity/electrons/rec:0-64_0-64/16_2...done\n",
      "Loading data set position/electrons/rec:0-64_0-64/16_0...done\n",
      "Loading data set position/electrons/rec:0-64_0-64/16_2...done\n"
     ]
    }
   ],
   "source": [
    "# get data\n",
    "data_r = data_z = data_phi = []\n",
    "pos_r = pos_z = []\n",
    "\n",
    "for probe in reader.meta.probes:\n",
    "    if probe.specie == specie:\n",
    "        frame = reader.meta.get_frame_number_by_timestamp(timestamp, probe.schedule)\n",
    "        timestamp = frame * probe.schedule * reader.meta.time[2]\n",
    "        if (probe.shape == 'rec') and (probe.size[0] == size[0]) and (probe.size[1] == size[1]) and(probe.size[2] == size[2]) and(probe.size[3] == size[3]):\n",
    "            if probe.component == 'velocity':\n",
    "                data_r = reader.get_frame(\"{}/{}\".format('velocity', specie), size, \"{}_0\".format(frame))[:]\n",
    "                data_phi = reader.get_frame(\"{}/{}\".format('velocity', specie), size, \"{}_1\".format(frame))[:]\n",
    "                data_z = reader.get_frame(\"{}/{}\".format('velocity', specie), size, \"{}_2\".format(frame))[:]\n",
    "            if probe.component == 'position':\n",
    "                pos_r = reader.get_frame(\"{}/{}\".format('position', specie), size, \"{}_0\".format(frame))[:]\n",
    "                pos_z = reader.get_frame(\"{}/{}\".format('position', specie), size, \"{}_2\".format(frame))[:]\n",
    "        \n",
    "data = np.sqrt(np.power(data_r, 2) + np.power(data_phi, 2) + np.power(data_z, 2))"
   ]
  },
  {
   "cell_type": "code",
   "execution_count": 17,
   "metadata": {},
   "outputs": [],
   "source": [
    "if use_directed_filter:\n",
    "    # substract directed velocity\n",
    "    r_grid_amount = int((size[2]-size[0]) / 2)\n",
    "    z_grid_amount = int((size[3]-size[1]) / 2)\n",
    "\n",
    "    subtrahend_r = np.zeros(r_grid_amount * z_grid_amount).reshape(r_grid_amount, z_grid_amount)\n",
    "    subtrahend_phi = np.zeros(r_grid_amount * z_grid_amount).reshape(r_grid_amount, z_grid_amount)\n",
    "    subtrahend_z = np.zeros(r_grid_amount * z_grid_amount).reshape(r_grid_amount, z_grid_amount)\n",
    "    subtrahend = np.zeros(r_grid_amount * z_grid_amount).reshape(r_grid_amount, z_grid_amount)\n",
    "    count = np.ones(r_grid_amount * z_grid_amount).reshape(r_grid_amount, z_grid_amount)\n",
    "    \n",
    "    dr = reader.meta.geometry_size[0] / reader.meta.geometry_grid[0]\n",
    "    dz = reader.meta.geometry_size[1] / reader.meta.geometry_grid[1]\n",
    "    r_shift = size[0] * dr\n",
    "    z_shift = size[1] * dz\n",
    "    \n",
    "    for i in range(0, r_grid_amount):\n",
    "        for j in range(0, z_grid_amount):\n",
    "            for n in range(0, len(pos_r)):\n",
    "                if pos_r[n] > r_shift + i * dr and pos_r[n] <= r_shift + (i+1) * dr and pos_z[n] > z_shift + j * dz and pos_z[n] <= z_shift + (j+1) * dz:\n",
    "                    subtrahend_r[i][j] += data_r[n]\n",
    "                    subtrahend_phi[i][j] += data_phi[n]\n",
    "                    subtrahend_z[i][j] += data_z[n]\n",
    "                    count[i][j] += 1\n",
    "    \n",
    "    subtrahend_r /= count\n",
    "    subtrahend_phi /= count\n",
    "    subtrahend_z /= count\n",
    "    \n",
    "    subtrahend = np.sqrt(np.power(subtrahend_r, 2) + np.power(subtrahend_z, 2) + np.power(subtrahend_phi, 2))\n",
    "       \n",
    "    # substract directed velocity\n",
    "    for i in range(0, len(data_r)):\n",
    "        p_r = pos_r[i]\n",
    "        p_z = pos_z[i]\n",
    "        r_cell_number = math.floor((p_r - r_shift) / dr - 1)\n",
    "        z_cell_number = math.floor((p_z - z_shift) / dz - 1)\n",
    "        if r_cell_number > r_grid_amount - 1: r_cell_number = r_grid_amount - 1\n",
    "        if z_cell_number > z_grid_amount - 1: z_cell_number = z_grid_amount - 1\n",
    "        data_r[i] = data_r[i] - subtrahend_r[r_cell_number][z_cell_number]\n",
    "        data_phi[i] = data_phi[i] - subtrahend_phi[r_cell_number][z_cell_number]\n",
    "        data_z[i] = data_z[i] - subtrahend_z[r_cell_number][z_cell_number]\n",
    "        # data[i] = data[i] - subtrahend[r_cell_number][z_cell_number]\n",
    "    data = np.sqrt(np.power(data_r, 2) + np.power(data_phi, 2) + np.power(data_z, 2))"
   ]
  },
  {
   "cell_type": "code",
   "execution_count": 18,
   "metadata": {},
   "outputs": [],
   "source": [
    "velocity_max = np.max(data)\n",
    "velocity_min = np.min(data)\n",
    "\n",
    "stat = np.zeros(segments)\n",
    "\n",
    "slices = np.linspace(velocity_min, velocity_max, segments)\n",
    "\n",
    "for i in data:\n",
    "    for j in range(len(slices)-1):\n",
    "        if i > slices[j] and i <= slices[j+1]:\n",
    "            stat[j] += 1\n",
    "            \n",
    "# stat = stat[stat != 0] # remove zero elements\n",
    "\n",
    "data_min = np.min(stat)\n",
    "data_max = np.max(stat)\n",
    "\n",
    "# normalize to range 0-1\n",
    "norm = 1 / data_max\n",
    "stat = stat * norm"
   ]
  },
  {
   "cell_type": "code",
   "execution_count": 7,
   "metadata": {
    "scrolled": false
   },
   "outputs": [],
   "source": [
    "data_array = np.linspace(data_min, data_max, len(stat))\n",
    "\n",
    "# define plot builder\n",
    "plot = PlotBuilder(0, 0, # let the system detects sizes automatically\n",
    "                   fig_color=reader.meta.figure_color, \n",
    "                   fig_width=reader.meta.figure_width,\n",
    "                   fig_height=reader.meta.figure_height, \n",
    "                   fig_dpi=reader.meta.figure_dpi,\n",
    "                   font_family=reader.meta.figure_font_family,\n",
    "                   font_name=reader.meta.figure_font_name,\n",
    "                   font_size=reader.meta.figure_font_size,\n",
    "                   tickbox=True, grid=show_grid, is_invert_y_axe=False,\n",
    "                   aspect='auto', guess_number_ticks=20,\n",
    "                   # number_x_ticks=10, number_y_ticks=10\n",
    "                   x_ticklabel_end=1e-9, y_ticklabel_end=1e-9\n",
    "                  )\n",
    "\n",
    "# add subplots\n",
    "plot_r = plot.add_subplot_cartesian_2d(plot_name, 111, x_axe_label=x_axis_label, y_axe_label=y_r_axis_label)\n",
    "\n",
    "# set y-limits\n",
    "if ylim_r is not None:\n",
    "    plot_r.set_ylim(ylim_r)\n",
    "\n",
    "if ylim_z is not None:\n",
    "    plot_z.set_ylim(ylim_z)"
   ]
  },
  {
   "cell_type": "code",
   "execution_count": 19,
   "metadata": {},
   "outputs": [],
   "source": [
    "# add data\n",
    "if use_approx:\n",
    "    x_new = np.linspace(velocity_min, velocity_max, len(stat))\n",
    "\n",
    "    coefs = poly.polyfit(slices, stat, approx_degree)\n",
    "    ffit = poly.polyval(x_new, coefs)\n",
    "    plot_r.plot(x_new, ffit)\n",
    "    plot_r.plot(slices, stat, linestyle = 'None', marker='.')\n",
    "else:\n",
    "    plot_r.plot(slices, stat)\n",
    "\n",
    "plot.show()"
   ]
  },
  {
   "cell_type": "code",
   "execution_count": null,
   "metadata": {},
   "outputs": [],
   "source": []
  }
 ],
 "metadata": {
  "kernelspec": {
   "display_name": "Python 3",
   "language": "python",
   "name": "python3"
  },
  "language_info": {
   "codemirror_mode": {
    "name": "ipython",
    "version": 3
   },
   "file_extension": ".py",
   "mimetype": "text/x-python",
   "name": "python",
   "nbconvert_exporter": "python",
   "pygments_lexer": "ipython3",
   "version": "3.7.4"
  },
  "name": "view_3_E_RHObeam_r_z.ipynb"
 },
 "nbformat": 4,
 "nbformat_minor": 2
}
