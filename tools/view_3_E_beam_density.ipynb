{
 "cells": [
  {
   "cell_type": "code",
   "execution_count": null,
   "metadata": {
    "autoscroll": false,
    "ein.hycell": false,
    "ein.tags": "worksheet-0",
    "slideshow": {
     "slide_type": "-"
    }
   },
   "outputs": [],
   "source": [
    "# define matplotlibplotting backend\n",
    "# %matplotlib -l shows all available backends\n",
    "%matplotlib qt"
   ]
  },
  {
   "cell_type": "code",
   "execution_count": null,
   "metadata": {
    "autoscroll": false,
    "ein.hycell": false,
    "ein.tags": "worksheet-0",
    "slideshow": {
     "slide_type": "-"
    }
   },
   "outputs": [],
   "source": [
    "import os, sys\n",
    "sys.path.append(os.path.join(os.path.dirname(os.path.dirname(os.path.abspath(os.getcwd()))), \"picopic/lib/python\"))\n",
    "\n",
    "import numpy as np\n",
    "\n",
    "from picopic.plot_builder import PlotBuilder\n",
    "from picopic.h5_reader import H5Reader"
   ]
  },
  {
   "cell_type": "code",
   "execution_count": null,
   "metadata": {},
   "outputs": [],
   "source": [
    "# service options\n",
    "delimiter = '/'\n",
    "\n",
    "## configuration options\n",
    "data_path = '/home/cosmonaut/dev/pic/picopic/'\n",
    "\n",
    "if os.path.isfile(data_path) or os.path.isfile(os.path.join(data_path, \"data.h5\")):\n",
    "    reader = H5Reader(path = data_path, verbose=True)\n",
    "else:\n",
    "    raise EnvironmentError(\"There is no corresponding data/metadata files in the path \" + data_path + \". Can not continue.\")\n",
    "\n",
    "timestamp=2.85e-10\n",
    "cmap='terrain_r'\n",
    "image_interpolation = 'nearest'\n",
    "\n",
    "autoselect = True\n",
    "show_grid=False\n",
    "aspect='equal'\n",
    "\n",
    "guess_number_ticks = 20\n",
    "\n",
    "cmp_r = 'E/r'\n",
    "cmp_z = 'E/z'\n",
    "cmp_beam = 'density'\n",
    "specie_beam = 'beam_electrons'\n",
    "\n",
    "# update shape to get custom shaped images\n",
    "# useful to get just part of frame\n",
    "# or get frames, which has smaller shape than full frame\n",
    "size=[0, 0, reader.meta.geometry_grid[0], reader.meta.geometry_grid[1]]\n",
    "\n",
    "r_scale = (size[2] - size[0]) / reader.meta.geometry_grid[0]\n",
    "z_scale = (size[3] - size[1]) / reader.meta.geometry_grid[1]\n",
    "\n",
    "# color limits (WARNING: clim_estimation may works incorrectly)\n",
    "clim_estimation = reader.meta.get_clim_estimation()\n",
    "beam_density = reader.meta.beams[0].bunch_density\n",
    "beam_density_delta = reader.meta.beams[0].bunch_density * 0.2\n",
    "\n",
    "clim_r = [-clim_estimation, clim_estimation]\n",
    "clim_z = [-clim_estimation, clim_estimation]\n",
    "clim_beam = [0, beam_density + beam_density_delta]\n",
    "\n",
    "x_axis_label = r'$\\mathit{Z (m)}$'\n",
    "y_axis_label = r'$\\mathit{R (m)}$'\n",
    "cbar_axis_label = r'$\\frac{V}{m}$'\n",
    "cbar_beam_axis_label = r'$m^{-3}$'\n",
    "\n",
    "plot_name_r = r'$\\mathbf{Electric\\enspace Field\\enspace E_r\\enspace Component}$'\n",
    "plot_name_z = r'$\\mathbf{Electric\\enspace Field\\enspace E_z\\enspace Component}$'\n",
    "plot_name_beam = r'$\\mathbf{Electron\\enspace Beam\\enspace Density\\enspace \\rho_{beam}}$'"
   ]
  },
  {
   "cell_type": "code",
   "execution_count": null,
   "metadata": {},
   "outputs": [],
   "source": [
    "# define plot builder\n",
    "plot = PlotBuilder(size[3] - size[1], size[2] - size[0],\n",
    "                   fig_color=reader.meta.figure_color, \n",
    "                   fig_width=reader.meta.figure_width,\n",
    "                   fig_height=reader.meta.figure_height, \n",
    "                   fig_dpi=reader.meta.figure_dpi,\n",
    "                   font_family=reader.meta.figure_font_family,\n",
    "                   font_name=reader.meta.figure_font_name,\n",
    "                   font_size=reader.meta.figure_font_size,\n",
    "                   \n",
    "                   x_ticklabel_end=reader.meta.geometry_size[1] * z_scale, \n",
    "                   y_ticklabel_end=reader.meta.geometry_size[0] * r_scale,\n",
    "                   tickbox=True, grid=show_grid, is_invert_y_axe=False,\n",
    "                   aspect=aspect, image_interpolation=image_interpolation,\n",
    "                   guess_number_ticks=guess_number_ticks)"
   ]
  },
  {
   "cell_type": "code",
   "execution_count": null,
   "metadata": {},
   "outputs": [],
   "source": [
    "# get data\n",
    "data_r = []\n",
    "data_z = []\n",
    "data_beam = []\n",
    "\n",
    "for probe in reader.meta.probes:\n",
    "    frame = reader.meta.get_frame_number_by_timestamp(timestamp, probe.schedule)\n",
    "    if ( (probe.shape == 'rec') \n",
    "        and (probe.size[0] == size[0]) \n",
    "        and (probe.size[1] == size[1]) \n",
    "        and (probe.size[2] == size[2]) \n",
    "        and (probe.size[3] == size[3]) ):\n",
    "        if probe.component == cmp_r:\n",
    "            data_r = reader.rec(\"{}\".format(cmp_r), size, frame)\n",
    "        if probe.component == cmp_z:\n",
    "            data_z = reader.rec(\"{}\".format(cmp_z), size, frame)\n",
    "        if probe.component == cmp_beam and probe.specie == specie_beam:\n",
    "            data_beam = reader.rec(\"{}{}{}\".format(cmp_beam, delimiter, specie_beam), size, frame)\n",
    "\n",
    "# try bigger frames, if autoselect enabled\n",
    "if (len(data_r) == 0 or len(data_z) == 0 or len(data_beam) == 0) and autoselect:\n",
    "    for probe in reader.meta.probes:\n",
    "        frame = reader.meta.get_frame_number_by_timestamp(timestamp, probe.schedule)\n",
    "        if ( (probe.shape == 'rec') \n",
    "            and (probe.size[0] <= size[0]) \n",
    "            and (probe.size[1] <= size[1]) \n",
    "            and (probe.size[2] >= size[2]) \n",
    "            and (probe.size[3] >= size[3]) ):\n",
    "            if probe.component == cmp_r:\n",
    "                data_r = reader.rec(\"{}\".format(cmp_r), probe.size, frame)[size[0]:size[2], size[1]:size[3]]\n",
    "            if probe.component == cmp_z:\n",
    "                data_z = reader.rec(\"{}\".format(cmp_z), probe.size, frame)[size[0]:size[2], size[1]:size[3]]\n",
    "            if probe.component == cmp_beam and probe.specie == specie_beam:\n",
    "                data_beam = reader.rec(\"{}{}{}\".format(cmp_beam, delimiter, specie_beam),\n",
    "                                       probe.size, frame)[size[0]:size[2], size[1]:size[3]]"
   ]
  },
  {
   "cell_type": "code",
   "execution_count": null,
   "metadata": {},
   "outputs": [],
   "source": [
    "# add subplots\n",
    "plot.add_subplot_cartesian_2d(plot_name_r, 311, x_axe_label=x_axis_label, y_axe_label=y_axis_label)\n",
    "plot.add_subplot_cartesian_2d(plot_name_z, 312, x_axe_label=x_axis_label, y_axe_label=y_axis_label)\n",
    "plot.add_subplot_cartesian_2d(plot_name_beam, 313, x_axe_label=x_axis_label, y_axe_label=y_axis_label)\n",
    "\n",
    "\n",
    "# add timestamp to plot\n",
    "plot.get_figure().suptitle(\"Time: {:.2e} s\".format(timestamp), x=.85, y=.95)\n",
    "\n",
    "# add images\n",
    "plot.add_image(plot_name_r, data_r, cmap=cmap, clim=clim_r)\n",
    "plot.add_image(plot_name_z, data_z, cmap=cmap, clim=clim_z)\n",
    "plot.add_image(plot_name_beam, data_beam, cmap=cmap, clim=clim_beam)\n",
    "\n",
    "\n",
    "# add colorbars\n",
    "plot.add_colorbar(plot_name_r, ticks=clim_r, title=cbar_axis_label)\n",
    "plot.add_colorbar(plot_name_z, ticks=clim_z, title=cbar_axis_label)\n",
    "plot.add_colorbar(plot_name_beam, ticks=clim_beam, title=cbar_beam_axis_label)\n",
    "\n",
    "\n",
    "plot.show()"
   ]
  },
  {
   "cell_type": "code",
   "execution_count": null,
   "metadata": {},
   "outputs": [],
   "source": []
  }
 ],
 "metadata": {
  "kernelspec": {
   "display_name": "Python 3",
   "language": "python",
   "name": "python3"
  },
  "language_info": {
   "codemirror_mode": {
    "name": "ipython",
    "version": 3
   },
   "file_extension": ".py",
   "mimetype": "text/x-python",
   "name": "python",
   "nbconvert_exporter": "python",
   "pygments_lexer": "ipython3",
   "version": "3.7.6"
  },
  "name": "view_3_E_RHObeam_r_z.ipynb"
 },
 "nbformat": 4,
 "nbformat_minor": 2
}
