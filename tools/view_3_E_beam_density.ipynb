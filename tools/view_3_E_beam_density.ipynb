{
 "cells": [
  {
   "cell_type": "code",
   "execution_count": null,
   "metadata": {
    "autoscroll": false,
    "ein.hycell": false,
    "ein.tags": "worksheet-0",
    "slideshow": {
     "slide_type": "-"
    }
   },
   "outputs": [],
   "source": [
    "# define matplotlibplotting backend\n",
    "# %matplotlib -l shows all available backends\n",
    "%matplotlib qt"
   ]
  },
  {
   "cell_type": "code",
   "execution_count": null,
   "metadata": {
    "autoscroll": false,
    "ein.hycell": false,
    "ein.tags": "worksheet-0",
    "slideshow": {
     "slide_type": "-"
    }
   },
   "outputs": [],
   "source": [
    "import os, sys\n",
    "sys.path.append(os.path.join(os.path.dirname(os.path.abspath(os.getcwd())), \"lib/python\"))\n",
    "\n",
    "import numpy as np\n",
    "\n",
    "from picopic.plot_builder import PlotBuilder\n",
    "from picopic.h5_reader import H5Reader\n"
   ]
  },
  {
   "cell_type": "code",
   "execution_count": null,
   "metadata": {},
   "outputs": [],
   "source": [
    "##  configuration options\n",
    "data_path = '/home/cosmonaut/dev/pic/picopic'\n",
    "\n",
    "timestamp=1e-11\n",
    "show_grid=False\n",
    "use_cache=False\n",
    "cmap='terrain'\n",
    "image_interpolation = 'nearest'\n",
    "autoselect = True\n",
    "\n",
    "cmp_0 = 'E/r'\n",
    "cmp_1 = 'E/z'\n",
    "cmp_beam = 'density'\n",
    "specie_beam = 'beam_electrons'\n",
    "\n",
    "if os.path.isfile(data_path) or os.path.isfile(os.path.join(data_path, \"data.h5\")):\n",
    "    reader = H5Reader(path = data_path, use_cache=use_cache, verbose=True)\n",
    "else:\n",
    "    raise EnvironmentError(\"There is no corresponding data/metadata files in the path \" + data_path + \". Can not continue.\")\n",
    "\n",
    "# update shape to get custom shaped images\n",
    "# useful to get just part of frame\n",
    "# or get frames, which has smaller shape than full frame\n",
    "size=[0, 0, reader.meta.geometry_grid[0], reader.meta.geometry_grid[1]]\n",
    "\n",
    "r_scale = (size[2] - size[0]) / reader.meta.geometry_grid[0]\n",
    "z_scale = (size[3] - size[1]) / reader.meta.geometry_grid[1]\n",
    "\n",
    "# color limits (WARNING: clim_estimation may works incorrectly)\n",
    "clim_estimation = reader.meta.get_clim_estimation()\n",
    "clim_0 = [-clim_estimation, clim_estimation]\n",
    "clim_1 = [-clim_estimation, clim_estimation]\n",
    "clim_beam = [0, reader.meta.beams[0].bunch_density]\n",
    "\n",
    "x_axis_label = r'$\\mathit{Z (m)}$'\n",
    "y_axis_label = r'$\\mathit{R (m)}$'\n",
    "cbar_axis_label = r'$\\frac{V}{m}$'\n",
    "cbar_bunch_density_axis_label = r'$m^{-3}$'\n",
    "\n",
    "plot_name_0 = r'$\\mathbf{Electric\\enspace Field\\enspace Radial \\enspace Component\\enspace (E_r)}$'\n",
    "plot_name_1 = r'$\\mathbf{Electric\\enspace Field\\enspace Longitudial \\enspace Component\\enspace (E_z)}$'\n",
    "plot_name_beam = r'$\\mathbf{Electrons\\enspace Beam\\enspace Density \\enspace  (\\rho_{beam})}$'"
   ]
  },
  {
   "cell_type": "code",
   "execution_count": null,
   "metadata": {},
   "outputs": [],
   "source": [
    "# get data\n",
    "data_0 = []\n",
    "data_1 = []\n",
    "data_beam = []\n",
    "shape = 'rec'\n",
    "for probe in reader.meta.probes:\n",
    "    frame = reader.meta.get_frame_number_by_timestamp(timestamp, probe.schedule)\n",
    "    if (probe.shape == shape) and (probe.size[0] == size[0]) and (probe.size[1] == size[1]) and(probe.size[2] == size[2]) and(probe.size[3] == size[3]):\n",
    "        if probe.component == cmp_0: data_0 = reader.rec(cmp_0, size, frame)\n",
    "        if probe.component == cmp_1: data_1 = reader.rec(cmp_1, size, frame)\n",
    "        if probe.component == cmp_beam and probe.specie == specie_beam: data_beam = reader.rec(\"{}/{}\".format(cmp_beam, specie_beam), size, frame)\n",
    "        timestamp = frame * probe.schedule * reader.meta.time[2]\n",
    "\n",
    "# try bigger frames, if autoselect enabled\n",
    "if (len(data_0) == 0 or len(data_1) == 0 or len(data_beam) == 0) and autoselect:\n",
    "    for probe in reader.meta.probes:\n",
    "        frame = reader.meta.get_frame_number_by_timestamp(timestamp, probe.schedule)\n",
    "        if (probe.shape == shape) and (probe.size[0] <= size[0]) and (probe.size[1] <= size[1]) and(probe.size[2] >= size[2]) and(probe.size[3] >= size[3]):\n",
    "            if probe.component == cmp_0 and len(data_0) == 0: data_0 = reader.rec(\"{}\".format(cmp_0), probe.size, frame)[size[0]:size[2], size[1]:size[3]]\n",
    "            if probe.component == cmp_1 and len(data_1) == 0: data_1 = reader.rec(\"{}\".format(cmp_1), probe.size, frame)[size[0]:size[2], size[1]:size[3]]\n",
    "            if probe.component == cmp_beam and probe.specie == specie_beam and len(data_beam) == 0: data_beam = reader.rec(\"{}/{}\".format(cmp_beam, specie_beam), probe.size, frame)[size[0]:size[2], size[1]:size[3]]\n",
    "            timestamp = frame * probe.schedule * reader.meta.time[2]"
   ]
  },
  {
   "cell_type": "code",
   "execution_count": null,
   "metadata": {},
   "outputs": [],
   "source": [
    "# define plot builder\n",
    "plot = PlotBuilder(size[3] - size[1], size[2] - size[0],\n",
    "                   fig_color=reader.meta.figure_color, \n",
    "                   fig_width=reader.meta.figure_width,\n",
    "                   fig_height=reader.meta.figure_height, \n",
    "                   fig_dpi=reader.meta.figure_dpi,\n",
    "                   font_family=reader.meta.figure_font_family,\n",
    "                   font_name=reader.meta.figure_font_name,\n",
    "                   font_size=reader.meta.figure_font_size,\n",
    "                   \n",
    "                   x_ticklabel_end=reader.meta.geometry_size[1] * z_scale,\n",
    "                   y_ticklabel_end=reader.meta.geometry_size[0] * r_scale,\n",
    "                   tickbox=True, grid=show_grid, is_invert_y_axe=False,\n",
    "                   aspect='equal', image_interpolation=image_interpolation, \n",
    "                   guess_number_ticks = 20)"
   ]
  },
  {
   "cell_type": "code",
   "execution_count": null,
   "metadata": {},
   "outputs": [],
   "source": [
    "# add subplots\n",
    "plot.add_subplot_cartesian_2d(plot_name_0, 311, x_axe_label=x_axis_label, y_axe_label=y_axis_label)\n",
    "plot.add_subplot_cartesian_2d(plot_name_1, 312, x_axe_label=x_axis_label, y_axe_label=y_axis_label)\n",
    "plot.add_subplot_cartesian_2d(plot_name_beam, 313, x_axe_label=x_axis_label, y_axe_label=y_axis_label)\n",
    "\n",
    "# add timestamp to plot\n",
    "plot.get_figure().suptitle(\"Time: {:.2e} s\".format(timestamp), x=.85, y=.95)\n",
    "\n",
    "# add images\n",
    "plot.add_image(plot_name_0, data_0, cmap=cmap, clim=clim_0)\n",
    "plot.add_image(plot_name_1, data_1, cmap=cmap, clim=clim_1)\n",
    "plot.add_image(plot_name_beam, data_beam, cmap=\"{}_r\".format(cmap), clim=clim_beam)\n",
    "\n",
    "# add colorbars\n",
    "plot.add_colorbar(plot_name_0, ticks=clim_0, title=cbar_axis_label)\n",
    "plot.add_colorbar(plot_name_1, ticks=clim_1, title=cbar_axis_label)\n",
    "plot.add_colorbar(plot_name_beam, ticks=clim_beam, title=cbar_bunch_density_axis_label)\n",
    "\n",
    "plot.show()"
   ]
  }
 ],
 "metadata": {
  "kernelspec": {
   "display_name": "Python 3",
   "language": "python",
   "name": "python3"
  },
  "language_info": {
   "codemirror_mode": {
    "name": "ipython",
    "version": 3
   },
   "file_extension": ".py",
   "mimetype": "text/x-python",
   "name": "python",
   "nbconvert_exporter": "python",
   "pygments_lexer": "ipython3",
   "version": "3.7.4"
  },
  "name": "view_3_E_RHObeam_r_z.ipynb"
 },
 "nbformat": 4,
 "nbformat_minor": 4
}
