{
 "cells": [
  {
   "cell_type": "code",
   "execution_count": null,
   "metadata": {
    "autoscroll": false,
    "ein.hycell": false,
    "ein.tags": "worksheet-0",
    "slideshow": {
     "slide_type": "-"
    }
   },
   "outputs": [],
   "source": [
    "# define matplotlibplotting backend\n",
    "# %matplotlib -l shows all available backends\n",
    "%matplotlib agg"
   ]
  },
  {
   "cell_type": "code",
   "execution_count": null,
   "metadata": {
    "autoscroll": false,
    "ein.hycell": false,
    "ein.tags": "worksheet-0",
    "slideshow": {
     "slide_type": "-"
    }
   },
   "outputs": [],
   "source": [
    "import os, sys, re\n",
    "sys.path.append(os.path.join(os.path.dirname(os.path.dirname(os.path.abspath(os.getcwd()))), \"picopic/lib/python\"))\n",
    "\n",
    "import numpy as np\n",
    "\n",
    "# disable GUI\n",
    "import matplotlib as mpl\n",
    "mpl.use('Agg')\n",
    "\n",
    "import matplotlib.animation as ani\n",
    "\n",
    "from picopic.plot_builder import PlotBuilder\n",
    "from picopic.h5_reader import H5Reader"
   ]
  },
  {
   "cell_type": "code",
   "execution_count": null,
   "metadata": {
    "scrolled": true
   },
   "outputs": [],
   "source": [
    "# service options\n",
    "delimiter = '/'\n",
    "\n",
    "## configuration options\n",
    "data_path = '/data/models/m40s1vXXXXXX/data_twobeams.h5'\n",
    "\n",
    "if os.path.isfile(data_path) or os.path.isfile(os.path.join(data_path, \"data.h5\")):\n",
    "    reader = H5Reader(path = data_path, verbose=False)\n",
    "else:\n",
    "    raise EnvironmentError(\"There is no corresponding data/metadata files in the path \" + data_path + \". Can not continue.\")\n",
    "\n",
    "cmap='terrain_r'\n",
    "image_interpolation = 'nearest'\n",
    "\n",
    "autoselect = True\n",
    "show_grid=False\n",
    "aspect='equal'\n",
    "\n",
    "guess_number_ticks = 20\n",
    "\n",
    "cmp_r = 'E/r'\n",
    "cmp_z = 'E/z'\n",
    "cmp_beam = 'density'\n",
    "specie_beam = 'beam_electrons'\n",
    "\n",
    "time_range = [reader.meta.time[0], reader.meta.time[1]]\n",
    "frame_step = 1\n",
    "\n",
    "# update shape to get custom shaped images\n",
    "# useful to get just part of frame\n",
    "# or get frames, which has smaller shape than full frame\n",
    "# frame_size = [0, 0, reader.meta.geometry_grid[0], reader.meta.geometry_grid[1]]\n",
    "frame_size = [0,0,250,1800]\n",
    "\n",
    "dry_run = False\n",
    "view = False\n",
    "\n",
    "video_file = \"mesh_movie_3_E_beam_density.avi\"\n",
    "\n",
    "r_scale = (frame_size[2] - frame_size[0]) / reader.meta.geometry_grid[0]\n",
    "z_scale = (frame_size[3] - frame_size[1]) / reader.meta.geometry_grid[1]\n",
    "\n",
    "# color limits (WARNING: clim_estimation may works incorrectly)\n",
    "clim_estimation = reader.meta.get_clim_estimation()\n",
    "beam_density = reader.meta.beams[0].bunch_density\n",
    "beam_density_delta = reader.meta.beams[0].bunch_density * 0.2\n",
    "\n",
    "clim_r = [-clim_estimation, clim_estimation]\n",
    "clim_z = [-clim_estimation, clim_estimation]\n",
    "clim_beam = [0, beam_density + beam_density_delta]\n",
    "\n",
    "x_axis_label = r'$\\mathit{Z (m)}$'\n",
    "y_axis_label = r'$\\mathit{R (m)}$'\n",
    "cbar_axis_label = r'$\\frac{V}{m}$'\n",
    "cbar_beam_axis_label = r'$m^{-3}$'\n",
    "\n",
    "plot_name_r = r'$\\mathbf{Electric\\enspace Field\\enspace E_r\\enspace Component}$'\n",
    "plot_name_z = r'$\\mathbf{Electric\\enspace Field\\enspace E_z\\enspace Component}$'\n",
    "plot_name_beam = r'$\\mathbf{Electron\\enspace Beam\\enspace Density\\enspace \\rho_{beam}}$'\n",
    "\n",
    "title_name = \"Electric Field Components ({}, {}) and Electron Beam Density\".format(re.sub(delimiter, '_', cmp_r), re.sub(delimiter, '_', cmp_z))"
   ]
  },
  {
   "cell_type": "code",
   "execution_count": null,
   "metadata": {
    "scrolled": false
   },
   "outputs": [],
   "source": [
    "# define plot builder\n",
    "plot = PlotBuilder(frame_size[3] - frame_size[1], frame_size[2] - frame_size[0],\n",
    "                   fig_color=reader.meta.figure_color, \n",
    "                   fig_width=reader.meta.figure_width,\n",
    "                   fig_height=reader.meta.figure_height, \n",
    "                   fig_dpi=reader.meta.figure_dpi,\n",
    "                   font_family=reader.meta.figure_font_family,\n",
    "                   font_name=reader.meta.figure_font_name,\n",
    "                   font_size=reader.meta.figure_font_size,\n",
    "                   \n",
    "                   x_ticklabel_end=reader.meta.geometry_size[1] * z_scale, \n",
    "                   y_ticklabel_end=reader.meta.geometry_size[0] * r_scale,\n",
    "                   tickbox=True, grid=show_grid, is_invert_y_axe=False,\n",
    "                   aspect=aspect, image_interpolation=image_interpolation,\n",
    "                   guess_number_ticks=guess_number_ticks)"
   ]
  },
  {
   "cell_type": "code",
   "execution_count": null,
   "metadata": {},
   "outputs": [],
   "source": [
    "frame_size"
   ]
  },
  {
   "cell_type": "code",
   "execution_count": null,
   "metadata": {},
   "outputs": [],
   "source": [
    "# add subplots\n",
    "plot.add_subplot_cartesian_2d(plot_name_r, 311, x_axe_label=x_axis_label, y_axe_label=y_axis_label)\n",
    "plot.add_subplot_cartesian_2d(plot_name_z, 312, x_axe_label=x_axis_label, y_axe_label=y_axis_label)\n",
    "plot.add_subplot_cartesian_2d(plot_name_beam, 313, x_axe_label=x_axis_label, y_axe_label=y_axis_label)\n",
    "\n",
    "# add initial image\n",
    "initial_image = np.zeros([frame_size[2] - frame_size[0], frame_size[3] - frame_size[1]])\n",
    "\n",
    "plot.add_image(plot_name_r, initial_image, cmap=cmap, clim=clim_r)\n",
    "plot.add_image(plot_name_z, initial_image, cmap=cmap, clim=clim_z)\n",
    "plot.add_image(plot_name_beam, initial_image, cmap=cmap, clim=clim_beam)\n",
    "\n",
    "# add colorbars\n",
    "plot.add_colorbar(plot_name_r, ticks=clim_r, title=cbar_axis_label)\n",
    "plot.add_colorbar(plot_name_z, ticks=clim_z, title=cbar_axis_label)\n",
    "plot.add_colorbar(plot_name_beam, ticks=clim_beam, title=cbar_beam_axis_label)"
   ]
  },
  {
   "cell_type": "code",
   "execution_count": null,
   "metadata": {},
   "outputs": [],
   "source": [
    "schedule = 0\n",
    "\n",
    "for p in reader.meta.probes:\n",
    "    if p.component == cmp_r:\n",
    "        schedule = p.schedule\n",
    "        break\n",
    "        \n",
    "start_frame = reader.meta.get_frame_number_by_timestamp(time_range[0], schedule)\n",
    "end_frame = reader.meta.get_frame_number_by_timestamp(time_range[1], schedule)\n",
    "\n",
    "frame_src_size=[-1, -1, -1, -1]\n",
    "    \n",
    "# detect probe shape\n",
    "for probe in reader.meta.probes:\n",
    "    if ( probe.shape == 'rec'\n",
    "        and probe.component == cmp_r\n",
    "        and probe.size[0] == frame_size[0]\n",
    "        and probe.size[1] == frame_size[1]\n",
    "        and probe.size[2] == frame_size[2]\n",
    "        and probe.size[3] == frame_size[3] ):\n",
    "        frame_src_size = probe.size\n",
    "        \n",
    "    # try bigger frames, if autoselect enabled\n",
    "    if ( ( frame_src_size[0] == -1 \n",
    "          or frame_src_size[1] == -1 \n",
    "          or frame_src_size[2] == -1 \n",
    "          or frame_src_size[3] == -1 )\n",
    "        and autoselect ):\n",
    "        for probe in reader.meta.probes:\n",
    "            if ( probe.shape == 'rec'\n",
    "                and probe.component == cmp_r\n",
    "                and probe.size[0] <= frame_size[0]\n",
    "                and probe.size[1] <= frame_size[1]\n",
    "                and probe.size[2] >= frame_size[2]\n",
    "                and probe.size[3] >= frame_size[3] ):\n",
    "                frame_src_size = probe.size"
   ]
  },
  {
   "cell_type": "code",
   "execution_count": null,
   "metadata": {
    "scrolled": false
   },
   "outputs": [],
   "source": [
    "FFMpegWriter = ani.writers['ffmpeg']\n",
    "\n",
    "metadata = dict(title = title_name)\n",
    "writer = FFMpegWriter(fps = reader.meta.video_fps,\n",
    "                      metadata = metadata,\n",
    "                      codec = reader.meta.video_codec,\n",
    "                      bitrate = reader.meta.video_bitrate)\n",
    "\n",
    "if dry_run: video_file = '/dev/null'\n",
    "fig = plot.get_figure()\n",
    "\n",
    "with writer.saving(fig, video_file, reader.meta.figure_dpi):\n",
    "    for i in range(start_frame, end_frame):\n",
    "        if i % frame_step == 0:\n",
    "            sys.stdout.write('Loading dataset ' + str(i) + '... ')\n",
    "            sys.stdout.flush()\n",
    "            data_r = reader.rec(cmp_r, frame_src_size, i)[frame_size[0]:frame_size[2], frame_size[1]:frame_size[3]]\n",
    "            data_z = reader.rec(cmp_z, frame_src_size, i)[frame_size[0]:frame_size[2], frame_size[1]:frame_size[3]]\n",
    "            data_beam = reader.rec(\"{}{}{}\".format(cmp_beam, delimiter, specie_beam), frame_src_size, i)[frame_size[0]:frame_size[2], frame_size[1]:frame_size[3]]\n",
    "\n",
    "            # add timestamp to each frame\n",
    "            timestamp = reader.meta.get_timestamp_by_frame_number(i, schedule)\n",
    "            fig.suptitle(\"Time: {:.2e} s\".format(timestamp), x=.85, y=.95)\n",
    "            \n",
    "            plot.add_image(plot_name_r, data_r, cmap=cmap, clim=clim_r)\n",
    "            plot.add_image(plot_name_z, data_z, cmap=cmap, clim=clim_z)\n",
    "            plot.add_image(plot_name_beam, data_beam, cmap=cmap, clim=clim_beam)\n",
    "\n",
    "            if view: plot.redraw()\n",
    "            if not dry_run: \n",
    "                writer.grab_frame()\n",
    "\n",
    "            print('DONE')"
   ]
  },
  {
   "cell_type": "code",
   "execution_count": null,
   "metadata": {},
   "outputs": [],
   "source": []
  }
 ],
 "metadata": {
  "kernelspec": {
   "display_name": "Python 3",
   "language": "python",
   "name": "python3"
  },
  "language_info": {
   "codemirror_mode": {
    "name": "ipython",
    "version": 3
   },
   "file_extension": ".py",
   "mimetype": "text/x-python",
   "name": "python",
   "nbconvert_exporter": "python",
   "pygments_lexer": "ipython3",
   "version": "3.7.4"
  },
  "name": "view_3_E_RHObeam_r_z.ipynb"
 },
 "nbformat": 4,
 "nbformat_minor": 2
}
